{
 "cells": [
  {
   "cell_type": "markdown",
   "id": "e5cc5739",
   "metadata": {},
   "source": [
    "## Learning goals\n",
    "\n",
    "After completing these exercises, you will know how to\n",
    "- Take more derivatives of simple products between vectors and matrices\n",
    "- Implement Ridge regression using the analytical expressions\n",
    "- Scale data appropriately for linear regression\n",
    "- Evaluate a model across two different hyperparameters"
   ]
  },
  {
   "cell_type": "markdown",
   "id": "427d9b9d",
   "metadata": {},
   "source": [
    "## Exercise 1 - Choice of model and degrees of freedom"
   ]
  },
  {
   "cell_type": "markdown",
   "id": "ff6ebdb5",
   "metadata": {},
   "source": [
    "**a)** How many degrees of freedom does an OLS model fit to the features $x, x^2, x^3$ and the intercept have?\n",
    "\n",
    "**b)** Why is it bad for a model to have too many degrees of freedom?\n",
    "\n",
    "**c)** Why is it bad for a model to have too few degrees of freedom?\n",
    "\n",
    "**d)** Read [chapter 3.4.1 of Hastie et al.'s book](https://link.springer.com/book/10.1007/978-0-387-84858-7). What is the expression for the effective degrees of freedom of the ridge regression fit?\n",
    "\n",
    "**e)** Why might we want to use Ridge regression instead of OLS?\n",
    "\n",
    "**f)** Why migth we want to use OLS instead of Ridge regression?"
   ]
  },
  {
   "cell_type": "markdown",
   "id": "37336b7f",
   "metadata": {},
   "source": [
    "**Answers:**\\\n",
    "**1a)**\n",
    "\n",
    "For an OLS model with features $1, x, x^2 \\text{ and } x^3$ we have four degrees of freedom, one for each feature including the intercept.\n",
    "\n",
    "\n",
    "**1b)**\n",
    "\n",
    "If a model has too many degrees of freedom we might experience overfitting, as seen in the materials and exercises for week 35.\n",
    "\n",
    "\n",
    "**1c)** \n",
    "\n",
    "If a model has too few degrees of freedom it might not be able to propperly model the feature we are attempting to predict.\n",
    "\n",
    "\n",
    "**1d)**\n",
    "\n",
    "From Hastie et al. equation 3.50 we have the expression for the effective degrees of freedom for the ridge regression given as:\n",
    "\n",
    "$$\n",
    "df(\\lambda) = tr(H_{\\lambda}) = \\sum^p_{j = 1} \\frac{d^2_j}{d^2_j + \\lambda}\n",
    "$$\n",
    "\n",
    "\n",
    "**1e)**\n",
    "\n",
    "In cases where OLS would give us a singular matrix, e.g. when the matrix $X^T X$ is non-invertible, we could use Ridge regression instead, to make the matrix invertible.\n",
    "\n",
    "**1f)** \n",
    "\n",
    "Ridge regression introduces some bias through $\\lambda$, when we want unbiased estimates for $\\theta$ we might use OLS instead of Ridge regression."
   ]
  },
  {
   "cell_type": "markdown",
   "id": "a78b2ce2",
   "metadata": {},
   "source": [
    "## Exercise 2 - Deriving the expression for Ridge Regression\n",
    "\n",
    "The aim here is to derive the expression for the optimal parameters using Ridge regression.\n",
    "\n",
    "The expression for the standard Mean Squared Error (MSE) which we used to define our cost function and the equations for the ordinary least squares (OLS) method, was given by the optimization problem"
   ]
  },
  {
   "cell_type": "markdown",
   "id": "93a7ad16",
   "metadata": {},
   "source": [
    "$$\n",
    "{\\displaystyle \\min_{\\boldsymbol{\\beta}\\in {\\mathbb{R}}^{p}}}\\frac{1}{n}\\left\\{\\left(\\boldsymbol{y}-\\boldsymbol{X}\\boldsymbol{\\beta}\\right)^T\\left(\\boldsymbol{y}-\\boldsymbol{X}\\boldsymbol{\\beta}\\right)\\right\\}.\n",
    "$$"
   ]
  },
  {
   "cell_type": "markdown",
   "id": "6b182c01",
   "metadata": {},
   "source": [
    "By minimizing the above equation with respect to the parameters $\\boldsymbol{\\beta}$ we could then obtain an analytical expression for the parameters $\\boldsymbol{\\hat\\beta_{OLS}}$.\n",
    "\n",
    "We can add a regularization parameter $\\lambda$ by\n",
    "defining a new cost function to be optimized, that is"
   ]
  },
  {
   "cell_type": "markdown",
   "id": "fb065daf",
   "metadata": {},
   "source": [
    "$$\n",
    "{\\displaystyle \\min_{\\boldsymbol{\\beta}\\in\n",
    "{\\mathbb{R}}^{p}}}\\frac{1}{n}\\vert\\vert \\boldsymbol{y}-\\boldsymbol{X}\\boldsymbol{\\beta}\\vert\\vert_2^2+\\lambda\\vert\\vert \\boldsymbol{\\beta}\\vert\\vert_2^2\n",
    "$$"
   ]
  },
  {
   "cell_type": "markdown",
   "id": "89ae11e8",
   "metadata": {},
   "source": [
    "which leads to the Ridge regression minimization problem. (One can require as part of the optimization problem that $\\vert\\vert \\boldsymbol{\\beta}\\vert\\vert_2^2\\le t$, where $t$ is a finite number larger than zero. We will not implement that in this course.)"
   ]
  },
  {
   "cell_type": "markdown",
   "id": "456d58d4",
   "metadata": {},
   "source": [
    "### a) Expression for Ridge regression\n",
    "\n",
    "Show that the optimal parameters"
   ]
  },
  {
   "cell_type": "markdown",
   "id": "a5677efd",
   "metadata": {},
   "source": [
    "$$\n",
    "\\hat{\\boldsymbol{\\beta}}_{\\mathrm{Ridge}} = \\left(\\boldsymbol{X}^T\\boldsymbol{X}+\\lambda\\boldsymbol{I}\\right)^{-1}\\boldsymbol{X}^T\\boldsymbol{y},\n",
    "$$"
   ]
  },
  {
   "cell_type": "markdown",
   "id": "e7b08048",
   "metadata": {},
   "source": [
    "with $\\boldsymbol{I}$ being a $p\\times p$ identity matrix.\n",
    "\n",
    "The ordinary least squares result is"
   ]
  },
  {
   "cell_type": "markdown",
   "id": "8bb0e6af",
   "metadata": {},
   "source": [
    "$$\n",
    "\\hat{\\boldsymbol{\\beta}}_{\\mathrm{OLS}} = \\left(\\boldsymbol{X}^T\\boldsymbol{X}\\right)^{-1}\\boldsymbol{X}^T\\boldsymbol{y},\n",
    "$$"
   ]
  },
  {
   "cell_type": "markdown",
   "id": "a1f2929c",
   "metadata": {},
   "source": [
    "**Answers:**\n",
    "**2a)**\n",
    "\n",
    "We start with:\n",
    "\n",
    "$$C(\\beta) = \\frac{1}{n}\\|y-X\\beta\\|_2^2+\\lambda\\|\\beta\\|_2^2$$\n",
    "\n",
    "Which can be expanded into:\n",
    "\n",
    "$$C(\\beta) = \\frac{1}{n}(y-X\\beta)^T(y-X\\beta)+\\lambda\\beta^T\\beta$$\n",
    "\n",
    "$$= \\frac{1}{n}(y^Ty - 2y^TX\\beta + \\beta^TX^TX\\beta)+\\lambda\\beta^T\\beta$$\n",
    "\n",
    "Differentiating with respect to $\\beta$ and setting the derivative equal to zero:\n",
    "\n",
    "$$\\frac{\\partial C}{\\partial \\beta} = \\frac{2}{n}(-X^Ty + X^TX\\beta) + 2\\lambda\\beta = 0$$\n",
    "\n",
    "This can be rearanged into:\n",
    "\n",
    "$$(X^TX + n\\lambda I)\\beta = X^Ty$$\n",
    "\n",
    "Showing that:\n",
    "\n",
    "$$\\hat{\\beta}_{\\mathrm{Ridge}} = \\left(X^TX+n\\lambda I\\right)^{-1}X^Ty$$\n"
   ]
  },
  {
   "cell_type": "markdown",
   "id": "2faaae78",
   "metadata": {},
   "source": [
    "## Exercise 3 - Scaling data"
   ]
  },
  {
   "cell_type": "code",
   "execution_count": 36,
   "id": "8ed79466",
   "metadata": {},
   "outputs": [],
   "source": [
    "import numpy as np\n",
    "import matplotlib.pyplot as plt\n",
    "from sklearn.model_selection import train_test_split\n",
    "from sklearn.preprocessing import StandardScaler\n",
    "\n",
    "# Setting seed to get the same data every time\n",
    "np.random.seed(1016)"
   ]
  },
  {
   "cell_type": "code",
   "execution_count": 37,
   "id": "59d6f347",
   "metadata": {},
   "outputs": [],
   "source": [
    "n = 100\n",
    "x = np.linspace(-3, 3, n)\n",
    "y = np.exp(-x**2) + 1.5 * np.exp(-(x-2)**2) + np.random.normal(0, 0.1)"
   ]
  },
  {
   "cell_type": "markdown",
   "id": "c9fc9fe0",
   "metadata": {},
   "source": [
    "**a)** Adapt your function from last week to only include the intercept column if the boolean argument `intercept` is set to true."
   ]
  },
  {
   "cell_type": "code",
   "execution_count": 38,
   "id": "5aa9c86d",
   "metadata": {},
   "outputs": [],
   "source": [
    "def polynomial_features(x, p, intercept=False):\n",
    "    n = len(x)\n",
    "\n",
    "    # Only include the intercept column if the itnercept argumenSt is True\n",
    "    if intercept:\n",
    "        X = np.zeros((n, p + 1))\n",
    "\n",
    "        for i in range(p + 1):\n",
    "            X[:, i] = x**i\n",
    "\n",
    "    else:\n",
    "        X = np.zeros((n, p))\n",
    "\n",
    "        for i in range(1, p + 1):\n",
    "            X[:, i - 1] = x**i\n",
    "    \n",
    "    return X"
   ]
  },
  {
   "cell_type": "code",
   "execution_count": 39,
   "id": "14c4474b",
   "metadata": {},
   "outputs": [
    {
     "name": "stdout",
     "output_type": "stream",
     "text": [
      "(100, 2)\n",
      "(100, 3)\n"
     ]
    }
   ],
   "source": [
    "# Testing function\n",
    "print(polynomial_features(x, 2, intercept=False).shape)\n",
    "print(polynomial_features(x, 2, intercept=True).shape)"
   ]
  },
  {
   "cell_type": "markdown",
   "id": "c5924634",
   "metadata": {},
   "source": [
    "**b)** Split your data into training and test data(80/20 split)"
   ]
  },
  {
   "cell_type": "code",
   "execution_count": 40,
   "id": "676541e7",
   "metadata": {},
   "outputs": [],
   "source": [
    "X = polynomial_features(x, 3, intercept=False)"
   ]
  },
  {
   "cell_type": "code",
   "execution_count": 41,
   "id": "f895606f",
   "metadata": {},
   "outputs": [],
   "source": [
    "# Splitting data into training and testing data, 80/20 training/testing\n",
    "X_train, X_test, y_train, y_test = train_test_split(X, y, test_size=0.20, random_state=1)\n",
    "x_train = X_train[:, 0] # These are used for plotting\n",
    "x_test = X_test[:, 0] # These are used for plotting"
   ]
  },
  {
   "cell_type": "markdown",
   "id": "a58f05ad",
   "metadata": {},
   "source": [
    "**c)** Scale your design matrix with the sklearn standard scaler, though based on the mean and standard deviation of the training data only."
   ]
  },
  {
   "cell_type": "code",
   "execution_count": 42,
   "id": "0c07995a",
   "metadata": {},
   "outputs": [],
   "source": [
    "scaler = StandardScaler()\n",
    "scaler.fit(X_train)\n",
    "X_train_s = scaler.transform(X_train)\n",
    "X_test_s = scaler.transform(X_test)\n",
    "y_offset = np.mean(y_train)"
   ]
  },
  {
   "cell_type": "markdown",
   "id": "63b86003",
   "metadata": {},
   "source": [
    "## Exercise 4 - Implementing Ridge Regression"
   ]
  },
  {
   "cell_type": "markdown",
   "id": "a2f52ef2",
   "metadata": {},
   "source": [
    "**a)** Implement a function for computing the optimal Ridge parameters using the expression from **2a)**."
   ]
  },
  {
   "cell_type": "code",
   "execution_count": 43,
   "id": "69f19bde",
   "metadata": {},
   "outputs": [
    {
     "name": "stdout",
     "output_type": "stream",
     "text": [
      "[ 0.70633676 -0.14375763 -0.3129167 ]\n"
     ]
    }
   ],
   "source": [
    "def Ridge_parameters(X, y, L):\n",
    "    # Assumes X is scaled and has no intercept column\n",
    "    return np.linalg.pinv(X.T @ X + L * np.eye(X.shape[1])) @ X.T @ y\n",
    "\n",
    "beta = Ridge_parameters(X_train_s, y_train, 1)\n",
    "print(beta)"
   ]
  },
  {
   "cell_type": "markdown",
   "id": "626c81ba",
   "metadata": {},
   "source": [
    "**b)** Fit a model to the data, and plot the prediction using both the training and test x-values extracted before scaling, and the y_offset."
   ]
  },
  {
   "cell_type": "code",
   "execution_count": 44,
   "id": "f9ba0655",
   "metadata": {},
   "outputs": [
    {
     "data": {
      "text/plain": [
       "<matplotlib.legend.Legend at 0x19778c60e60>"
      ]
     },
     "execution_count": 44,
     "metadata": {},
     "output_type": "execute_result"
    },
    {
     "data": {
      "image/png": "[encoded data removed]",
      "text/plain": [
       "<Figure size 640x480 with 1 Axes>"
      ]
     },
     "metadata": {},
     "output_type": "display_data"
    }
   ],
   "source": [
    "plt.plot(x, y, label=\"Actual function\")\n",
    "\n",
    "plt.scatter(x_train, X_train_s @ beta + y_offset, label=\"Training prediction\")\n",
    "plt.scatter(x_test, X_test_s @ beta + y_offset, label=\"Testing prediction\")\n",
    "plt.legend()"
   ]
  },
  {
   "cell_type": "markdown",
   "id": "2993cfae",
   "metadata": {},
   "source": [
    "## Exercise 4 - Testing multiple hyperparameters"
   ]
  },
  {
   "cell_type": "markdown",
   "id": "e6cdc89a",
   "metadata": {},
   "source": [
    "**a)** Compute the MSE of your ridge model for polynomials of degrees 1 to 5 with lambda set to 0.01. Plot the MSE as a function of polynomial degree.\n",
    "\n",
    "**b)** Compute the MSE of your ridge model for a polynomial with degree 3, and with lambdas from $10^{-1}$ to $10^{-5}$ on a logarithmic scale. Plot the MSE as a function of lambda.\n",
    "\n",
    "**c)** Compute the MSE of your ridge model for polynomials of degrees 1 to 5, and with lambdas from $10^{-1}$ to $10^{-5}$ on a logarithmic scale. Plot the MSE as a function of polynomial degree and lambda using a [heatmap](https://matplotlib.org/stable/gallery/images_contours_and_fields/image_annotated_heatmap.html)."
   ]
  },
  {
   "cell_type": "code",
   "execution_count": 45,
   "id": "ebc5593e",
   "metadata": {},
   "outputs": [],
   "source": [
    "# Setting seed to get the same data every time\n",
    "np.random.seed(4155)\n",
    "\n",
    "# Generate the data\n",
    "n = 50\n",
    "x = np.linspace(-3, 3, n)\n",
    "y = np.exp(-x**2) + 1.5 * np.exp(-(x-2)**2) + np.random.normal(0, 0.1, n)  # Fixed: added n\n",
    "\n",
    "# Split the data before creating the design matrices\n",
    "x_train, x_test, y_train, y_test = train_test_split(x, y, random_state=99)"
   ]
  },
  {
   "cell_type": "markdown",
   "id": "b46ef287",
   "metadata": {},
   "source": [
    "**4A)**"
   ]
  },
  {
   "cell_type": "code",
   "execution_count": 46,
   "id": "376bce71",
   "metadata": {},
   "outputs": [
    {
     "name": "stdout",
     "output_type": "stream",
     "text": [
      "Degree 1: Train MSE = 0.502212, Test MSE = 0.668092\n",
      "Degree 2: Train MSE = 0.477127, Test MSE = 0.525106\n",
      "Degree 3: Train MSE = 0.455279, Test MSE = 0.515386\n",
      "Degree 4: Train MSE = 0.452978, Test MSE = 0.508681\n",
      "Degree 5: Train MSE = 0.443030, Test MSE = 0.475863\n"
     ]
    },
    {
     "data": {
      "text/plain": [
       "<matplotlib.legend.Legend at 0x19778bb9b20>"
      ]
     },
     "execution_count": 46,
     "metadata": {},
     "output_type": "execute_result"
    },
    {
     "data": {
      "image/png": "[encoded data removed]",
      "text/plain": [
       "<Figure size 640x480 with 1 Axes>"
      ]
     },
     "metadata": {},
     "output_type": "display_data"
    }
   ],
   "source": [
    "from sklearn.metrics import mean_squared_error\n",
    "from numpy import log\n",
    "\n",
    "degrees = range(1, 6)\n",
    "Lambda = 0.01\n",
    "MSE_train_degrees = []\n",
    "MSE_test_degrees = []\n",
    "\n",
    "# Iterating over all degrees\n",
    "for degree in degrees:   \n",
    "    \n",
    "    # Create a design matrix for current polynomial degree using raw x values\n",
    "    X_train = polynomial_features(x_train, degree)  # Use x_train, not X_train_s\n",
    "    X_test = polynomial_features(x_test, degree)    # Use x_test, not X_test_s\n",
    "\n",
    "    # Scaling data\n",
    "    scaler = StandardScaler()\n",
    "    X_train_scaled = scaler.fit_transform(X_train)\n",
    "    X_test_scaled = scaler.transform(X_test)\n",
    "    \n",
    "    # Train the model (find optimal parameters)\n",
    "    beta = Ridge_parameters(X_train_scaled, y_train, Lambda)\n",
    "    \n",
    "    # Make predictions\n",
    "    y_train_pred = X_train_scaled @ beta\n",
    "    y_test_pred = X_test_scaled @ beta\n",
    "    \n",
    "    # Calculate MSE for both training and test data\n",
    "    train_mse_current = mean_squared_error(y_train, y_train_pred)\n",
    "    test_mse_current = mean_squared_error(y_test, y_test_pred)\n",
    "    \n",
    "    # Store results\n",
    "    MSE_train_degrees.append(train_mse_current)\n",
    "    MSE_test_degrees.append(test_mse_current)\n",
    "    \n",
    "    # Print results\n",
    "    print(f\"Degree {degree}: Train MSE = {train_mse_current:.6f}, Test MSE = {test_mse_current:.6f}\")\n",
    "\n",
    "plt.plot(degrees, MSE_train_degrees, 'o-', color='blue', label='Training Error')\n",
    "plt.plot(degrees, MSE_test_degrees, 'o-', color='red', label='Test Error')\n",
    "plt.legend()"
   ]
  },
  {
   "cell_type": "markdown",
   "id": "f00dcb4e",
   "metadata": {},
   "source": [
    "**4b)**"
   ]
  },
  {
   "cell_type": "code",
   "execution_count": 47,
   "id": "ec4d9ce2",
   "metadata": {},
   "outputs": [
    {
     "name": "stdout",
     "output_type": "stream",
     "text": [
      "Lambda 1.00e+03: Train MSE = 0.464723, Test MSE = 0.694853\n",
      "Lambda 1.29e+02: Train MSE = 0.399188, Test MSE = 0.586254\n",
      "Lambda 1.67e+01: Train MSE = 0.348797, Test MSE = 0.513044\n",
      "Lambda 2.15e+00: Train MSE = 0.327904, Test MSE = 0.492473\n",
      "Lambda 2.78e-01: Train MSE = 0.326781, Test MSE = 0.493113\n",
      "Lambda 3.59e-02: Train MSE = 0.326758, Test MSE = 0.493397\n",
      "Lambda 4.64e-03: Train MSE = 0.326758, Test MSE = 0.493438\n",
      "Lambda 5.99e-04: Train MSE = 0.326758, Test MSE = 0.493443\n",
      "Lambda 7.74e-05: Train MSE = 0.326758, Test MSE = 0.493444\n",
      "Lambda 1.00e-05: Train MSE = 0.326758, Test MSE = 0.493444\n"
     ]
    },
    {
     "data": {
      "text/plain": [
       "<matplotlib.legend.Legend at 0x19776221580>"
      ]
     },
     "execution_count": 47,
     "metadata": {},
     "output_type": "execute_result"
    },
    {
     "data": {
      "image/png": "[encoded data removed]",
      "text/plain": [
       "<Figure size 640x480 with 1 Axes>"
      ]
     },
     "metadata": {},
     "output_type": "display_data"
    }
   ],
   "source": [
    "\n",
    "degree = 3\n",
    "Lambda = np.logspace(3, -5, 10)\n",
    "MSE_train_lambda = []\n",
    "MSE_test_lambda = []\n",
    "\n",
    "# Create design matrices once since degree is fixed\n",
    "X_train = polynomial_features(x_train, degree)\n",
    "X_test = polynomial_features(x_test, degree)\n",
    "\n",
    "# Iterating over all lambda values\n",
    "for L in Lambda:   \n",
    "   \n",
    "   # Train the model (find optimal parameters)\n",
    "   beta = Ridge_parameters(X_train, y_train, L)\n",
    "   \n",
    "   # Make predictions\n",
    "   y_train_pred = X_train @ beta\n",
    "   y_test_pred = X_test @ beta\n",
    "   \n",
    "   # Calculate MSE for both training and test data\n",
    "   train_mse_current = mean_squared_error(y_train, y_train_pred)\n",
    "   test_mse_current = mean_squared_error(y_test, y_test_pred)\n",
    "   \n",
    "   # Store results\n",
    "   MSE_train_lambda.append(train_mse_current)\n",
    "   MSE_test_lambda.append(test_mse_current)\n",
    "   \n",
    "   # Print results\n",
    "   print(f\"Lambda {L:.2e}: Train MSE = {train_mse_current:.6f}, Test MSE = {test_mse_current:.6f}\")\n",
    "\n",
    "plt.semilogx(Lambda, MSE_train_lambda, 'o-', color='blue', label='Training Error')\n",
    "plt.semilogx(Lambda, MSE_test_lambda, 'o-', color='red', label='Test Error')\n",
    "plt.xlabel('Lambda')\n",
    "plt.ylabel('MSE')\n",
    "plt.legend()"
   ]
  },
  {
   "cell_type": "markdown",
   "id": "fa896ded",
   "metadata": {},
   "source": [
    "**4c)**"
   ]
  },
  {
   "cell_type": "code",
   "execution_count": 48,
   "id": "b76cabd2",
   "metadata": {},
   "outputs": [],
   "source": [
    "# Define ranges\n",
    "degrees = range(1, 6)\n",
    "Lambdas = np.logspace(-1, -5, 5)\n",
    "\n",
    "MSE_heatmap_train = np.zeros((5, 5))\n",
    "MSE_heatmap_test = np.zeros((5, 5))\n",
    "\n",
    "# Nested loop structure\n",
    "for degree in degrees:\n",
    "    for j, L in enumerate(Lambdas):\n",
    "        \n",
    "        # Create design matrices for current degree\n",
    "        X_train_poly = polynomial_features(x_train, degree, intercept=False)\n",
    "        X_test_poly = polynomial_features(x_test, degree, intercept=False)\n",
    "        \n",
    "        # Scale the design matrices\n",
    "        scaler = StandardScaler()\n",
    "        X_train_s = scaler.fit_transform(X_train_poly)\n",
    "        X_test_s = scaler.transform(X_test_poly)\n",
    "        \n",
    "        # Train Ridge regression\n",
    "        beta = Ridge_parameters(X_train_s, y_train, L)\n",
    "        \n",
    "        # Make predictions\n",
    "        y_train_pred = X_train_s @ beta\n",
    "        y_test_pred = X_test_s @ beta\n",
    "        \n",
    "        # Calculate MSE and store in 5x5 matrix\n",
    "        MSE_heatmap_train[degree - 1, j] = mean_squared_error(y_train, y_train_pred)\n",
    "        MSE_heatmap_test[degree - 1, j] = mean_squared_error(y_test, y_test_pred)\n"
   ]
  },
  {
   "cell_type": "code",
   "execution_count": 49,
   "id": "36e31230",
   "metadata": {},
   "outputs": [
    {
     "data": {
      "image/png": "[encoded data removed]",
      "text/plain": [
       "<Figure size 1500x600 with 2 Axes>"
      ]
     },
     "metadata": {},
     "output_type": "display_data"
    }
   ],
   "source": [
    "# Create the heatmap\n",
    "fig, (ax1, ax2) = plt.subplots(1, 2, figsize=(15, 6))\n",
    "\n",
    "# Training MSE heatmap\n",
    "im1 = ax1.imshow(MSE_heatmap_train, cmap='Blues', aspect='auto')\n",
    "ax1.set_yticks(range(len(degrees)), labels=list(degrees))\n",
    "ax1.set_xticks(range(len(Lambdas)), labels=[f\"{np.log10(lam):.1f}\" for lam in Lambdas])\n",
    "ax1.set_xlabel(\"Lambda (log10)\")\n",
    "ax1.set_ylabel(\"Polynomial Degree\")\n",
    "ax1.set_title(\"Training MSE\")\n",
    "\n",
    "# Add values to training heatmap\n",
    "for i in range(len(degrees)):\n",
    "    for j in range(len(Lambdas)):\n",
    "        ax1.text(j, i, f'{MSE_heatmap_train[i, j]:.3f}',\n",
    "                ha=\"center\", va=\"center\", color=\"red\", fontsize=8)\n",
    "\n",
    "# Test MSE heatmap\n",
    "im2 = ax2.imshow(MSE_heatmap_test, cmap='Blues', aspect='auto')\n",
    "ax2.set_yticks(range(len(degrees)), labels=list(degrees))\n",
    "ax2.set_xticks(range(len(Lambdas)), labels=[f\"{np.log10(lam):.1f}\" for lam in Lambdas])\n",
    "ax2.set_xlabel(\"Lambda (log10)\")\n",
    "ax2.set_ylabel(\"Polynomial Degree\")\n",
    "ax2.set_title(\"Test MSE\")\n",
    "\n",
    "# Add values to test heatmap\n",
    "for i in range(len(degrees)):\n",
    "    for j in range(len(Lambdas)):\n",
    "        ax2.text(j, i, f'{MSE_heatmap_test[i, j]:.3f}',\n",
    "                ha=\"center\", va=\"center\", color=\"red\", fontsize=8)\n",
    "\n",
    "plt.show()"
   ]
  }
 ],
 "metadata": {
  "kernelspec": {
   "display_name": ".venv",
   "language": "python",
   "name": "python3"
  },
  "language_info": {
   "codemirror_mode": {
    "name": "ipython",
    "version": 3
   },
   "file_extension": ".py",
   "mimetype": "text/x-python",
   "name": "python",
   "nbconvert_exporter": "python",
   "pygments_lexer": "ipython3",
   "version": "3.12.1"
  }
 },
 "nbformat": 4,
 "nbformat_minor": 5
}

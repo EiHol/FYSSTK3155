{
 "cells": [
  {
   "cell_type": "markdown",
   "id": "e5cc5739",
   "metadata": {},
   "source": [
    "## Learning goals\n",
    "\n",
    "After completing these exercises, you will know how to\n",
    "- Take more derivatives of simple products between vectors and matrices\n",
    "- Implement Ridge regression using the analytical expressions\n",
    "- Scale data appropriately for linear regression\n",
    "- Evaluate a model across two different hyperparameters"
   ]
  },
  {
   "cell_type": "markdown",
   "id": "427d9b9d",
   "metadata": {},
   "source": [
    "## Exercise 1 - Choice of model and degrees of freedom"
   ]
  },
  {
   "cell_type": "markdown",
   "id": "ff6ebdb5",
   "metadata": {},
   "source": [
    "**a)** How many degrees of freedom does an OLS model fit to the features $x, x^2, x^3$ and the intercept have?\n",
    "\n",
    "**b)** Why is it bad for a model to have too many degrees of freedom?\n",
    "\n",
    "**c)** Why is it bad for a model to have too few degrees of freedom?\n",
    "\n",
    "**d)** Read [chapter 3.4.1 of Hastie et al.'s book](https://link.springer.com/book/10.1007/978-0-387-84858-7). What is the expression for the effective degrees of freedom of the ridge regression fit?\n",
    "\n",
    "**e)** Why might we want to use Ridge regression instead of OLS?\n",
    "\n",
    "**f)** Why migth we want to use OLS instead of Ridge regression?"
   ]
  },
  {
   "cell_type": "markdown",
   "id": "37336b7f",
   "metadata": {},
   "source": [
    "**Answers:**\\\n",
    "**1a)**\n",
    "\n",
    "For an OLS model with features $1, x, x^2 \\text{ and } x^3$ we have four degrees of freedom, one for each feature including the intercept.\n",
    "\n",
    "\n",
    "**1b)**\n",
    "\n",
    "If a model has too many degrees of freedom we might experience overfitting, as seen in the materials and exercises for week 35.\n",
    "\n",
    "\n",
    "**1c)** \n",
    "\n",
    "If a model has too few degrees of freedom it might not be able to propperly model the feature we are attempting to predict.\n",
    "\n",
    "\n",
    "**1d)**\n",
    "\n",
    "From Hastie et al. equation 3.50 we have the expression for the effective degrees of freedom for the ridge regression given as:\n",
    "\n",
    "$$\n",
    "df(\\lambda) = tr(H_{\\lambda}) = \\sum^p_{j = 1} \\frac{d^2_j}{d^2_j + \\lambda}\n",
    "$$\n",
    "\n",
    "\n",
    "**1e)**\n",
    "\n",
    "In cases where OLS would give us a singular matrix, e.g. when the matrix $X^T X$ is non-invertible, we could use Ridge regression instead, to make the matrix invertible.\n",
    "\n",
    "**1f)** \n",
    "\n",
    "Ridge regression introduces some bias through $\\lambda$, when we want unbiased estimates for $\\theta$ we might use OLS instead of Ridge regression."
   ]
  },
  {
   "cell_type": "markdown",
   "id": "a78b2ce2",
   "metadata": {},
   "source": [
    "## Exercise 2 - Deriving the expression for Ridge Regression\n",
    "\n",
    "The aim here is to derive the expression for the optimal parameters using Ridge regression.\n",
    "\n",
    "The expression for the standard Mean Squared Error (MSE) which we used to define our cost function and the equations for the ordinary least squares (OLS) method, was given by the optimization problem"
   ]
  },
  {
   "cell_type": "markdown",
   "id": "93a7ad16",
   "metadata": {},
   "source": [
    "$$\n",
    "{\\displaystyle \\min_{\\boldsymbol{\\beta}\\in {\\mathbb{R}}^{p}}}\\frac{1}{n}\\left\\{\\left(\\boldsymbol{y}-\\boldsymbol{X}\\boldsymbol{\\beta}\\right)^T\\left(\\boldsymbol{y}-\\boldsymbol{X}\\boldsymbol{\\beta}\\right)\\right\\}.\n",
    "$$"
   ]
  },
  {
   "cell_type": "markdown",
   "id": "6b182c01",
   "metadata": {},
   "source": [
    "By minimizing the above equation with respect to the parameters $\\boldsymbol{\\beta}$ we could then obtain an analytical expression for the parameters $\\boldsymbol{\\hat\\beta_{OLS}}$.\n",
    "\n",
    "We can add a regularization parameter $\\lambda$ by\n",
    "defining a new cost function to be optimized, that is"
   ]
  },
  {
   "cell_type": "markdown",
   "id": "fb065daf",
   "metadata": {},
   "source": [
    "$$\n",
    "{\\displaystyle \\min_{\\boldsymbol{\\beta}\\in\n",
    "{\\mathbb{R}}^{p}}}\\frac{1}{n}\\vert\\vert \\boldsymbol{y}-\\boldsymbol{X}\\boldsymbol{\\beta}\\vert\\vert_2^2+\\lambda\\vert\\vert \\boldsymbol{\\beta}\\vert\\vert_2^2\n",
    "$$"
   ]
  },
  {
   "cell_type": "markdown",
   "id": "89ae11e8",
   "metadata": {},
   "source": [
    "which leads to the Ridge regression minimization problem. (One can require as part of the optimization problem that $\\vert\\vert \\boldsymbol{\\beta}\\vert\\vert_2^2\\le t$, where $t$ is a finite number larger than zero. We will not implement that in this course.)"
   ]
  },
  {
   "cell_type": "markdown",
   "id": "456d58d4",
   "metadata": {},
   "source": [
    "### a) Expression for Ridge regression\n",
    "\n",
    "Show that the optimal parameters"
   ]
  },
  {
   "cell_type": "markdown",
   "id": "a5677efd",
   "metadata": {},
   "source": [
    "$$\n",
    "\\hat{\\boldsymbol{\\beta}}_{\\mathrm{Ridge}} = \\left(\\boldsymbol{X}^T\\boldsymbol{X}+\\lambda\\boldsymbol{I}\\right)^{-1}\\boldsymbol{X}^T\\boldsymbol{y},\n",
    "$$"
   ]
  },
  {
   "cell_type": "markdown",
   "id": "e7b08048",
   "metadata": {},
   "source": [
    "with $\\boldsymbol{I}$ being a $p\\times p$ identity matrix.\n",
    "\n",
    "The ordinary least squares result is"
   ]
  },
  {
   "cell_type": "markdown",
   "id": "8bb0e6af",
   "metadata": {},
   "source": [
    "$$\n",
    "\\hat{\\boldsymbol{\\beta}}_{\\mathrm{OLS}} = \\left(\\boldsymbol{X}^T\\boldsymbol{X}\\right)^{-1}\\boldsymbol{X}^T\\boldsymbol{y},\n",
    "$$"
   ]
  },
  {
   "cell_type": "markdown",
   "id": "a1f2929c",
   "metadata": {},
   "source": [
    "**Answers:**\\\n",
    "**2a)**\n",
    "\n"
   ]
  },
  {
   "cell_type": "markdown",
   "id": "2faaae78",
   "metadata": {},
   "source": [
    "## Exercise 3 - Scaling data"
   ]
  },
  {
   "cell_type": "code",
   "execution_count": 227,
   "id": "8ed79466",
   "metadata": {},
   "outputs": [],
   "source": [
    "import numpy as np\n",
    "import matplotlib.pyplot as plt\n",
    "from sklearn.model_selection import train_test_split\n",
    "from sklearn.preprocessing import StandardScaler\n",
    "\n",
    "# Setting seed to get the same data every time\n",
    "np.random.seed(1016)"
   ]
  },
  {
   "cell_type": "code",
   "execution_count": 228,
   "id": "59d6f347",
   "metadata": {},
   "outputs": [],
   "source": [
    "n = 100\n",
    "x = np.linspace(-3, 3, n)\n",
    "y = np.exp(-x**2) + 1.5 * np.exp(-(x-2)**2) + np.random.normal(0, 0.1)"
   ]
  },
  {
   "cell_type": "markdown",
   "id": "c9fc9fe0",
   "metadata": {},
   "source": [
    "**a)** Adapt your function from last week to only include the intercept column if the boolean argument `intercept` is set to true."
   ]
  },
  {
   "cell_type": "code",
   "execution_count": 229,
   "id": "5aa9c86d",
   "metadata": {},
   "outputs": [],
   "source": [
    "def polynomial_features(x, p, intercept=False):\n",
    "    n = len(x)\n",
    "\n",
    "    # Only include the intercept column if the itnercept argumenSt is True\n",
    "    if intercept:\n",
    "        X = np.zeros((n, p + 1))\n",
    "\n",
    "        for i in range(p + 1):\n",
    "            X[:, i] = x**i\n",
    "\n",
    "    else:\n",
    "        X = np.zeros((n, p))\n",
    "\n",
    "        for i in range(1, p + 1):\n",
    "            X[:, i - 1] = x**i\n",
    "    \n",
    "    return X"
   ]
  },
  {
   "cell_type": "code",
   "execution_count": 230,
   "id": "14c4474b",
   "metadata": {},
   "outputs": [
    {
     "name": "stdout",
     "output_type": "stream",
     "text": [
      "(100, 2)\n",
      "(100, 3)\n"
     ]
    }
   ],
   "source": [
    "# Testing function\n",
    "print(polynomial_features(x, 2, intercept=False).shape)\n",
    "print(polynomial_features(x, 2, intercept=True).shape)"
   ]
  },
  {
   "cell_type": "markdown",
   "id": "c5924634",
   "metadata": {},
   "source": [
    "**b)** Split your data into training and test data(80/20 split)"
   ]
  },
  {
   "cell_type": "code",
   "execution_count": 231,
   "id": "676541e7",
   "metadata": {},
   "outputs": [],
   "source": [
    "X = polynomial_features(x, 3, intercept=False)"
   ]
  },
  {
   "cell_type": "code",
   "execution_count": 232,
   "id": "f895606f",
   "metadata": {},
   "outputs": [],
   "source": [
    "# Splitting data into training and testing data, 80/20 training/testing\n",
    "X_train, X_test, y_train, y_test = train_test_split(X, y, test_size=0.20, random_state=1)\n",
    "x_train = X_train[:, 0] # These are used for plotting\n",
    "x_test = X_test[:, 0] # These are used for plotting"
   ]
  },
  {
   "cell_type": "markdown",
   "id": "a58f05ad",
   "metadata": {},
   "source": [
    "**c)** Scale your design matrix with the sklearn standard scaler, though based on the mean and standard deviation of the training data only."
   ]
  },
  {
   "cell_type": "code",
   "execution_count": 233,
   "id": "0c07995a",
   "metadata": {},
   "outputs": [],
   "source": [
    "scaler = StandardScaler()\n",
    "scaler.fit(X_train)\n",
    "X_train_s = scaler.transform(X_train)\n",
    "X_test_s = scaler.transform(X_test)\n",
    "y_offset = np.mean(y_train)"
   ]
  },
  {
   "cell_type": "markdown",
   "id": "63b86003",
   "metadata": {},
   "source": [
    "## Exercise 4 - Implementing Ridge Regression"
   ]
  },
  {
   "cell_type": "markdown",
   "id": "a2f52ef2",
   "metadata": {},
   "source": [
    "**a)** Implement a function for computing the optimal Ridge parameters using the expression from **2a)**."
   ]
  },
  {
   "cell_type": "code",
   "execution_count": 238,
   "id": "69f19bde",
   "metadata": {},
   "outputs": [
    {
     "name": "stdout",
     "output_type": "stream",
     "text": [
      "[ 0.70633676 -0.14375763 -0.3129167 ]\n"
     ]
    }
   ],
   "source": [
    "def Ridge_parameters(X, y, L):\n",
    "    # Assumes X is scaled and has no intercept column\n",
    "    return np.linalg.pinv(X.T @ X + L * np.eye(X.shape[1])) @ X.T @ y\n",
    "\n",
    "beta = Ridge_parameters(X_train_s, y_train, 1)\n",
    "print(beta)"
   ]
  },
  {
   "cell_type": "markdown",
   "id": "626c81ba",
   "metadata": {},
   "source": [
    "**b)** Fit a model to the data, and plot the prediction using both the training and test x-values extracted before scaling, and the y_offset."
   ]
  },
  {
   "cell_type": "code",
   "execution_count": 239,
   "id": "f9ba0655",
   "metadata": {},
   "outputs": [
    {
     "data": {
      "text/plain": [
       "<matplotlib.legend.Legend at 0x76e9b4b21310>"
      ]
     },
     "execution_count": 239,
     "metadata": {},
     "output_type": "execute_result"
    },
    {
     "data": {
      "image/png": "[encoded data removed]",
      "text/plain": [
       "<Figure size 640x480 with 1 Axes>"
      ]
     },
     "metadata": {},
     "output_type": "display_data"
    }
   ],
   "source": [
    "plt.plot(x, y, label=\"Actual function\")\n",
    "\n",
    "plt.scatter(x_train, X_train_s @ beta + y_offset, label=\"Training prediction\")\n",
    "plt.scatter(x_test, X_test_s @ beta + y_offset, label=\"Testing prediction\")\n",
    "plt.legend()"
   ]
  },
  {
   "cell_type": "markdown",
   "id": "2993cfae",
   "metadata": {},
   "source": [
    "## Exercise 4 - Testing multiple hyperparameters"
   ]
  },
  {
   "cell_type": "markdown",
   "id": "e6cdc89a",
   "metadata": {},
   "source": [
    "**a)** Compute the MSE of your ridge model for polynomials of degrees 1 to 5 with lambda set to 0.01. Plot the MSE as a function of polynomial degree.\n",
    "\n",
    "**b)** Compute the MSE of your ridge model for a polynomial with degree 3, and with lambdas from $10^{-1}$ to $10^{-5}$ on a logarithmic scale. Plot the MSE as a function of lambda.\n",
    "\n",
    "**c)** Compute the MSE of your ridge model for polynomials of degrees 1 to 5, and with lambdas from $10^{-1}$ to $10^{-5}$ on a logarithmic scale. Plot the MSE as a function of polynomial degree and lambda using a [heatmap](https://matplotlib.org/stable/gallery/images_contours_and_fields/image_annotated_heatmap.html)."
   ]
  },
  {
   "cell_type": "code",
   "execution_count": null,
   "id": "ebc5593e",
   "metadata": {},
   "outputs": [],
   "source": [
    "# Generate the data\n",
    "n = 50\n",
    "x = np.linspace(-3, 3, n)\n",
    "y = np.exp(-x**2) + 1.5 * np.exp(-(x-2)**2) + np.random.normal(0, 0.1)"
   ]
  },
  {
   "cell_type": "markdown",
   "id": "b46ef287",
   "metadata": {},
   "source": [
    "**4A)**"
   ]
  },
  {
   "cell_type": "code",
   "execution_count": 248,
   "id": "376bce71",
   "metadata": {},
   "outputs": [
    {
     "name": "stdout",
     "output_type": "stream",
     "text": [
      "Degree 1: Train MSE = 0.811104, Test MSE = 0.664130\n",
      "Degree 2: Train MSE = 0.478440, Test MSE = 0.625948\n",
      "Degree 3: Train MSE = 0.477453, Test MSE = 0.697405\n",
      "Degree 4: Train MSE = 0.357949, Test MSE = 0.132195\n",
      "Degree 5: Train MSE = 0.325123, Test MSE = 0.783275\n"
     ]
    },
    {
     "data": {
      "text/plain": [
       "<matplotlib.legend.Legend at 0x76e9b4897380>"
      ]
     },
     "execution_count": 248,
     "metadata": {},
     "output_type": "execute_result"
    },
    {
     "data": {
      "image/png": "[encoded data removed]",
      "text/plain": [
       "<Figure size 640x480 with 1 Axes>"
      ]
     },
     "metadata": {},
     "output_type": "display_data"
    }
   ],
   "source": [
    "from sklearn.metrics import mean_squared_error\n",
    "from numpy import log\n",
    "\n",
    "degrees = range(1, 6)\n",
    "Lambda = 0.01\n",
    "MSE_train = []\n",
    "MSE_test = []\n",
    "\n",
    "# Split the data before creating the design matrices to make sure all iterations use the same test and training dataset\n",
    "x_train, x_test, y_train, y_test = train_test_split(x, y)\n",
    "\n",
    "# Iterating over all degrees\n",
    "for degree in degrees:   \n",
    "    \n",
    "    # Create a design matrix for current polynomial degree\n",
    "    X_train = polynomial_features(x_train, degree)\n",
    "    X_test = polynomial_features(x_test, degree)\n",
    "    \n",
    "    # Train the model (find optimal parameters)\n",
    "    beta = Ridge_parameters(X_train, y_train, Lambda)\n",
    "    \n",
    "    # Make predictions\n",
    "    y_train_pred = X_train @ beta\n",
    "    y_test_pred = X_test @ beta\n",
    "    \n",
    "    # Calculate MSE for both training and test data\n",
    "    train_mse_current = mean_squared_error(y_train, y_train_pred)\n",
    "    test_mse_current = mean_squared_error(y_test, y_test_pred)\n",
    "    \n",
    "    # Store results\n",
    "    MSE_train.append(train_mse_current)\n",
    "    MSE_test.append(test_mse_current)\n",
    "    \n",
    "    # Print results\n",
    "    print(f\"Degree {degree}: Train MSE = {train_mse_current:.6f}, Test MSE = {test_mse_current:.6f}\")\n",
    "\n",
    "plt.plot(degrees, MSE_train, 'o-', color='blue', label='Training Error')\n",
    "plt.plot(degrees, MSE_test, 'o-', color='red', label='Test Error')\n",
    "plt.legend()"
   ]
  },
  {
   "cell_type": "markdown",
   "id": "f00dcb4e",
   "metadata": {},
   "source": [
    "**4b)**"
   ]
  },
  {
   "cell_type": "code",
   "execution_count": 258,
   "id": "ec4d9ce2",
   "metadata": {},
   "outputs": [
    {
     "name": "stdout",
     "output_type": "stream",
     "text": [
      "Lambda 1.00e+02: Train MSE = 0.513475, Test MSE = 0.641576\n",
      "Lambda 1.29e+01: Train MSE = 0.468872, Test MSE = 0.600295\n",
      "Lambda 1.67e+00: Train MSE = 0.456607, Test MSE = 0.550335\n",
      "Lambda 2.15e-01: Train MSE = 0.456076, Test MSE = 0.541040\n",
      "Lambda 2.78e-02: Train MSE = 0.456066, Test MSE = 0.539793\n",
      "Lambda 3.59e-03: Train MSE = 0.456065, Test MSE = 0.539631\n",
      "Lambda 4.64e-04: Train MSE = 0.456065, Test MSE = 0.539610\n",
      "Lambda 5.99e-05: Train MSE = 0.456065, Test MSE = 0.539607\n",
      "Lambda 7.74e-06: Train MSE = 0.456065, Test MSE = 0.539607\n",
      "Lambda 1.00e-06: Train MSE = 0.456065, Test MSE = 0.539607\n"
     ]
    },
    {
     "data": {
      "text/plain": [
       "<matplotlib.legend.Legend at 0x76e9adeb3b90>"
      ]
     },
     "execution_count": 258,
     "metadata": {},
     "output_type": "execute_result"
    },
    {
     "data": {
      "image/png": "[encoded data removed]",
      "text/plain": [
       "<Figure size 640x480 with 1 Axes>"
      ]
     },
     "metadata": {},
     "output_type": "display_data"
    }
   ],
   "source": [
    "\n",
    "degree = 3\n",
    "Lambda = np.logspace(2, -6, 10)\n",
    "MSE_train = []\n",
    "MSE_test = []\n",
    "\n",
    "# Split the data before creating the design matrices to make sure all iterations use the same test and training dataset\n",
    "x_train, x_test, y_train, y_test = train_test_split(x, y)\n",
    "\n",
    "# Create design matrices once since degree is fixed\n",
    "X_train = polynomial_features(x_train, degree)\n",
    "X_test = polynomial_features(x_test, degree)\n",
    "\n",
    "# Iterating over all lambda values\n",
    "for L in Lambda:   \n",
    "   \n",
    "   # Train the model (find optimal parameters)\n",
    "   beta = Ridge_parameters(X_train, y_train, L)\n",
    "   \n",
    "   # Make predictions\n",
    "   y_train_pred = X_train @ beta\n",
    "   y_test_pred = X_test @ beta\n",
    "   \n",
    "   # Calculate MSE for both training and test data\n",
    "   train_mse_current = mean_squared_error(y_train, y_train_pred)\n",
    "   test_mse_current = mean_squared_error(y_test, y_test_pred)\n",
    "   \n",
    "   # Store results\n",
    "   MSE_train.append(train_mse_current)\n",
    "   MSE_test.append(test_mse_current)\n",
    "   \n",
    "   # Print results\n",
    "   print(f\"Lambda {L:.2e}: Train MSE = {train_mse_current:.6f}, Test MSE = {test_mse_current:.6f}\")\n",
    "\n",
    "plt.semilogx(Lambda, MSE_train, 'o-', color='blue', label='Training Error')\n",
    "plt.semilogx(Lambda, MSE_test, 'o-', color='red', label='Test Error')\n",
    "plt.xlabel('Lambda')\n",
    "plt.ylabel('MSE')\n",
    "plt.legend()"
   ]
  },
  {
   "cell_type": "markdown",
   "id": "fa896ded",
   "metadata": {},
   "source": [
    "**4c)**"
   ]
  },
  {
   "cell_type": "code",
   "execution_count": null,
   "id": "b76cabd2",
   "metadata": {},
   "outputs": [],
   "source": []
  }
 ],
 "metadata": {
  "kernelspec": {
   "display_name": ".venv",
   "language": "python",
   "name": "python3"
  },
  "language_info": {
   "codemirror_mode": {
    "name": "ipython",
    "version": 3
   },
   "file_extension": ".py",
   "mimetype": "text/x-python",
   "name": "python",
   "nbconvert_exporter": "python",
   "pygments_lexer": "ipython3",
   "version": "3.12.3"
  }
 },
 "nbformat": 4,
 "nbformat_minor": 5
}

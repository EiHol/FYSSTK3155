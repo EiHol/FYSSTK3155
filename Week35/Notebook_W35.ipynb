{
 "cells": [
  {
   "cell_type": "markdown",
   "id": "b4005770",
   "metadata": {},
   "source": [
    "# Exercises week 35\n",
    "\n",
    "## Deriving and Implementing Ordinary Least Squares"
   ]
  },
  {
   "cell_type": "markdown",
   "id": "2ca1b589",
   "metadata": {},
   "source": [
    "This week you will be deriving the analytical expressions for linear regression, building up the model from scratch. This will include taking several derivatives of products of vectors and matrices. Such derivatives are central to the optimization of many machine learning models. Although we will often use automatic differentiation in actual calculations, to be able to have analytical expressions is extremely helpful in case we have simpler derivatives as well as when we analyze various properties (like second derivatives) of the chosen cost functions.\n",
    "\n",
    "Vectors are always written as boldfaced lower case letters and matrices as upper case boldfaced letters. You will find useful the notes from week 35 on derivatives of vectors and matrices. See also the textbook of Faisal at al, chapter 5 and in particular sections 5.3-5.5 at <https://github.com/CompPhysics/MachineLearning/blob/master/doc/Textbooks/MathMLbook.pdf>"
   ]
  },
  {
   "cell_type": "markdown",
   "id": "41e92bf9",
   "metadata": {},
   "source": [
    "### Learning goals\n",
    "\n",
    "After completing these exercises, you will know how to\n",
    "- Take the derivatives of simple products between vectors and matrices\n",
    "- Implement OLS using the analytical expressions\n",
    "- Create a feature matrix from a set of data\n",
    "- Create a feature matrix for a polynomial model\n",
    "- Evaluate the MSE score of various model on training and test data, and comparing their performance\n",
    "\n",
    "### Deliverables\n",
    "\n",
    "Complete the following exercises while working in a jupyter notebook. Then, in canvas, include\n",
    "- The jupyter notebook with the exercises completed\n",
    "- An exported PDF of the notebook (https://code.visualstudio.com/docs/datascience/jupyter-notebooks#_export-your-jupyter-notebook)"
   ]
  },
  {
   "cell_type": "markdown",
   "id": "f7a9209d",
   "metadata": {},
   "source": [
    "## How to take derivatives of Matrix-Vector expressions"
   ]
  },
  {
   "cell_type": "markdown",
   "id": "45f3712e",
   "metadata": {},
   "source": [
    "In these exercises it is always useful to write out with summation indices the various quantities. Take also a look at the weekly slides from week 35 and the various examples included there.\n",
    "\n",
    "As an example, consider the function\n",
    "\n",
    "$$\n",
    "f(\\boldsymbol{x}) =\\boldsymbol{A}\\boldsymbol{x},\n",
    "$$\n",
    "\n",
    "which reads for a specific component $f_i$ (we define the matrix $\\boldsymbol{A}$ to have dimension $n\\times n$ and the vector $\\boldsymbol{x}$ to have length $n$)\n",
    "\n",
    "$$\n",
    "f_i =\\sum_{j=0}^{n-1}a_{ij}x_j,\n",
    "$$\n",
    "\n",
    "which leads to\n",
    "\n",
    "$$\n",
    "\\frac{\\partial f_i}{\\partial x_j}= a_{ij},\n",
    "$$\n",
    "\n",
    "and written out in terms of the vector $\\boldsymbol{x}$ we have\n",
    "\n",
    "$$\n",
    "\\frac{\\partial f(\\boldsymbol{x})}{\\partial \\boldsymbol{x}}= \\boldsymbol{A}.\n",
    "$$"
   ]
  },
  {
   "cell_type": "markdown",
   "id": "5fa8a4e6",
   "metadata": {},
   "source": [
    "## Exercise 1 - Finding the derivative of Matrix-Vector expressions"
   ]
  },
  {
   "cell_type": "markdown",
   "id": "df7a2270",
   "metadata": {},
   "source": [
    "**a)** Consider the expression\n",
    "\n",
    "$$\n",
    "\\frac{\\partial (\\boldsymbol{a}^T\\boldsymbol{x})}{\\partial \\boldsymbol{x}},\n",
    "$$\n",
    "\n",
    "Where $\\boldsymbol{a}$ and $\\boldsymbol{x}$ are column-vectors with length $n$.\n",
    "\n",
    "What is the *shape* of the expression we are taking the derivative of?\n",
    "\n",
    "What is the *shape* of the thing we are taking the derivative with respect to?\n",
    "\n",
    "What is the *shape* of the result of the expression?"
   ]
  },
  {
   "cell_type": "markdown",
   "id": "c0396734",
   "metadata": {},
   "source": [
    "**b)** Show that\n",
    "\n",
    "$$\n",
    "\\frac{\\partial (\\boldsymbol{a}^T\\boldsymbol{x})}{\\partial \\boldsymbol{x}} = \\boldsymbol{a}^T,\n",
    "$$"
   ]
  },
  {
   "cell_type": "markdown",
   "id": "dc39d541",
   "metadata": {},
   "source": [
    "**c)** Show that\n",
    "\n",
    "$$\n",
    "\\frac{\\partial (\\boldsymbol{a}^T\\boldsymbol{A}\\boldsymbol{a})}{\\partial \\boldsymbol{a}} = \\boldsymbol{a}^T(\\boldsymbol{A}+\\boldsymbol{A}^T),\n",
    "$$"
   ]
  },
  {
   "cell_type": "markdown",
   "id": "211043d0",
   "metadata": {},
   "source": [
    "**Answers:**\\\n",
    "**1a)** \n",
    "\n",
    "Since both $\\boldsymbol{a}$ and $\\boldsymbol{x}$ are column vector with shape nx1 and we take the product of the two vectors, the product will be a 1x1 matrix.\n",
    "\n",
    "We are taking the derivative with respect to the vector $\\boldsymbol{x}$, which is an 1xn \"matrix\".\n",
    "\n",
    "Since $(\\boldsymbol{a} \\cdot \\boldsymbol{x})$ is a scalar that is differentiated with respect to $\\boldsymbol{x}$. The resulting expression will have the shape 1xn. This can be seen when looking at the Jacobian matrix and considering the result when either $(\\boldsymbol{a}$ or $\\boldsymbol{x})$ is a scalar.\n",
    "\n",
    "$$\\mathbf{J} = \\mathbf{\\frac{\\partial y}{\\partial x}} = \\begin{pmatrix}\n",
    "\\frac{\\partial y_1}{\\partial x_1} & \\frac{\\partial y_1}{\\partial x_2} & \\cdots & \\frac{\\partial y_1}{\\partial x_n} \\\\\n",
    "\\frac{\\partial y_2}{\\partial x_1} & \\frac{\\partial y_2}{\\partial x_2} & \\cdots & \\frac{\\partial y_2}{\\partial x_n} \\\\\n",
    "\\vdots & \\vdots & \\ddots & \\vdots \\\\\n",
    "\\frac{\\partial y_m}{\\partial x_1} & \\frac{\\partial y_m}{\\partial x_2} & \\cdots & \\frac{\\partial y_m}{\\partial x_n}\n",
    "\\end{pmatrix}$$\n",
    "\n",
    "**1b)**\\\n",
    "As previously stated the product of $(\\boldsymbol{a} \\cdot \\boldsymbol{x})$ is a scalar, a 1x1 matrix. If, instead of initialy taking the product, we keep the expression expanded. We see that $x_i$ dissapears out of the expression through the partal differentiation, leaving us with $\\boldsymbol{a}^T$.\n",
    "\n",
    "$$\\frac{\\partial (\\boldsymbol{a}^T\\boldsymbol{x})}{\\partial \\boldsymbol{x}} = \n",
    "\\begin{pmatrix}\n",
    "\\frac{\\partial (\\boldsymbol{a_1} \\cdot \\boldsymbol{x_1})}{\\partial x_1} & \\frac{\\partial (\\boldsymbol{a_2} \\cdot \\boldsymbol{x_2})}{\\partial x_2} & \\dots & \\frac{\\partial (\\boldsymbol{a_n} \\cdot \\boldsymbol{x_n})}{\\partial x_n}\n",
    "\\end{pmatrix} = \n",
    "\\begin{pmatrix} \n",
    "\\boldsymbol{a_1} & \\boldsymbol{a_2} & \\dots \\boldsymbol{a_n}\n",
    "\\end{pmatrix} = \\boldsymbol{a}^T\n",
    "$$\n",
    "\n",
    "\\\n",
    "**1c)** \n",
    "\n",
    "Consider that the product of $(\\boldsymbol{a}^T\\boldsymbol{A}\\boldsymbol{a})$ is a scalar. Since A is multiplied with elements from $a$ twice, once through the left multiplication and once through the right multiplication, when differentiating $(\\boldsymbol{a}^T\\boldsymbol{A}\\boldsymbol{a})$ with respect to any element $a_i$ we get a contribution from both these elements. We can rewrite this scalar into: \n",
    "\n",
    "$$\\frac{\\partial}{\\partial a_i}\\left(\\sum_{j=1}^{n} \\sum_{k=1}^{n} a_j A_{jk} a_k\\right) = \\sum_{k=1}^{n} A_{ik} a_k + \\sum_{j=1}^{n} a_j A_{ji}$$\n",
    "\n",
    "The first sum gives us $\\boldsymbol{a}^T$ times column $i$ of $\\boldsymbol{A}^T$.\n",
    "The second sum gives us $\\boldsymbol{a}^T$ times column $i$ of $\\boldsymbol{A}$.\n",
    "\n",
    "This can be further expanded into $\\boldsymbol{a}^T(\\boldsymbol{A}^T+\\boldsymbol{A})$ through standard matrix/vector addition, showing that:\n",
    "\n",
    "$$\\frac{\\partial (\\boldsymbol{a}^T\\boldsymbol{A}\\boldsymbol{a})}{\\partial \\boldsymbol{a}} = \\boldsymbol{a}^T(\\boldsymbol{A}^T + \\boldsymbol{A})$$\n",
    "\n",
    "\n"
   ]
  },
  {
   "cell_type": "markdown",
   "id": "498d13ec",
   "metadata": {},
   "source": [
    "## Exercise 2 - Deriving the expression for OLS"
   ]
  },
  {
   "cell_type": "markdown",
   "id": "f3f771de",
   "metadata": {},
   "source": [
    "The ordinary least squares method finds the parameters $\\boldsymbol{\\theta}$ which minimizes the squared error between our model $\\boldsymbol{X\\theta}$ and the true values $\\boldsymbol{y}$.\n",
    "\n",
    "To find the parameters $\\boldsymbol{\\theta}$ which minimizes this error, we take the derivative of the squared error expression with respect to $\\boldsymbol{\\theta}$, and set it equal to 0."
   ]
  },
  {
   "cell_type": "markdown",
   "id": "49690237",
   "metadata": {},
   "source": [
    "**a)** Very briefly explain why the approach above finds the parameters $\\boldsymbol{\\theta}$ which minimizes this error."
   ]
  },
  {
   "cell_type": "markdown",
   "id": "b7cccc9d",
   "metadata": {},
   "source": [
    "We typically write the squared error as\n",
    "\n",
    "$$\n",
    "\\vert\\vert\\boldsymbol{y} - \\boldsymbol{X\\theta}\\vert\\vert^2\n",
    "$$\n",
    "\n",
    "which we can rewrite in matrix-vector form as\n",
    "\n",
    "$$\n",
    "\\left(\\boldsymbol{y}-\\boldsymbol{X}\\boldsymbol{\\theta}\\right)^T\\left(\\boldsymbol{y}-\\boldsymbol{X}\\boldsymbol{\\theta}\\right)\n",
    "$$"
   ]
  },
  {
   "cell_type": "markdown",
   "id": "8fbecf74",
   "metadata": {},
   "source": [
    "**b)** If $\\boldsymbol{X}$ is invertible, what is the expression for the optimal parameters $\\boldsymbol{\\theta}$? (**Hint:** Don't compute any derivatives, but solve $\\boldsymbol{X\\theta}=\\boldsymbol{y}$ for $\\boldsymbol{\\theta}$)"
   ]
  },
  {
   "cell_type": "markdown",
   "id": "f37af8f0",
   "metadata": {},
   "source": [
    "**c)** Show that\n",
    "\n",
    "$$\n",
    "\\frac{\\partial \\left(\\boldsymbol{x}-\\boldsymbol{A}\\boldsymbol{s}\\right)^T\\left(\\boldsymbol{x}-\\boldsymbol{A}\\boldsymbol{s}\\right)}{\\partial \\boldsymbol{s}} = -2\\left(\\boldsymbol{x}-\\boldsymbol{A}\\boldsymbol{s}\\right)^T\\boldsymbol{A},\n",
    "$$"
   ]
  },
  {
   "cell_type": "markdown",
   "id": "869fca4d",
   "metadata": {},
   "source": [
    "**d)** Using the expression from **c)**, but substituting back in $\\boldsymbol{\\theta}$, $\\boldsymbol{y}$ and $\\boldsymbol{X}$, find the expression for the optimal parameters $\\boldsymbol{\\theta}$ in the case that $\\boldsymbol{X}$ is not invertible, but $\\boldsymbol{X^T X}$ is, which is most often the case.\n",
    "\n",
    "$$\n",
    "\\boldsymbol{\\hat{\\theta}_{OLS}} = ...\n",
    "$$"
   ]
  },
  {
   "cell_type": "markdown",
   "id": "09f94592",
   "metadata": {},
   "source": [
    "**Answers:**\\\n",
    "**2a)**\n",
    "\n",
    "In essence, partial derivation of an expression with respect to a given parameter gives us the gradient of that expression with respect to that parameter. Setting the gradient equal to zero lets us find the point where the given gradient is zero, or in other words; the maximum of minimum point of the expression. Given that the expression is convex, setting the gradient to zero will give us the minimum.\\\n",
    "\n",
    "\n",
    "**2b)**\n",
    "\n",
    "Given that $X$ is invertible we can multiply both sides with the inverted, $X^{-1}$. This simplifies the left side to $X^{-1} X \\theta = \\theta$, giving us $$\\theta = y X^{-1}$$\n",
    "\n",
    "**2c)**\n",
    "\n",
    "To show that\n",
    "\n",
    "$$\n",
    "\\frac{\\partial \\left(\\boldsymbol{x}-\\boldsymbol{A}\\boldsymbol{s}\\right)^T\\left(\\boldsymbol{x}-\\boldsymbol{A}\\boldsymbol{s}\\right)}{\\partial \\boldsymbol{s}} = -2\\left(\\boldsymbol{x}-\\boldsymbol{A}\\boldsymbol{s}\\right)^T\\boldsymbol{A},\n",
    "$$\n",
    "\n",
    "we first set $(x-As) = k$. This gives us $\\frac{\\partial k^T k}{\\partial s}$. Empolying the chain rule we get that $\\frac{\\partial k^T k}{\\partial s} = \\frac{\\partial (k^T k)}{\\partial k} \\cdot \\frac{\\partial k}{\\partial s}$. We know that $\\frac{\\partial (k^T k)}{\\partial k} = 2k^T$, and by substituting back in $k = (x - As)$ into $\\frac{\\partial k}{\\partial s}$ and performing the partial differentiation we get $\\frac{\\partial k}{\\partial s} = -A$.\n",
    "\n",
    "Substituting both these expressions back into the initial chain rule expression, we get \n",
    "\n",
    "$$\\frac{\\partial \\left(\\boldsymbol{x}-\\boldsymbol{A}\\boldsymbol{s}\\right)^T\\left(\\boldsymbol{x}-\\boldsymbol{A}\\boldsymbol{s}\\right)}{\\partial \\boldsymbol{s}} = \\frac{\\partial k^T k}{\\partial s} = \\frac{\\partial (k^T k)}{\\partial k} \\cdot \\frac{\\partial k}{\\partial s} = 2k^T \\cdot -A = -2(x - As)^T A$$\n",
    "\n",
    "\n",
    "**2d**\n",
    "\n",
    "Substituting back in $\\theta, y \\text{ and } X$ into the expression from c) we get\n",
    "\n",
    "$$\\frac{\\partial (y-X\\theta)^T (y-X\\theta)}{\\partial \\theta} = -2 (y - X \\theta)^T X$$\n",
    "\n",
    "By setting the gradient equal to zero, $-2 (y - X \\theta)^T X$ = 0, we can find the optimal parameters $\\theta$. Expanding and manipulating this expression we find that $$\\hat{\\theta}_{OLS} = (X^T X)^{-1} X^T y$$"
   ]
  },
  {
   "cell_type": "markdown",
   "id": "57ca3d74",
   "metadata": {},
   "source": [
    "## Exercise 3 - Creating feature matrix and implementing OLS using the analytical expression"
   ]
  },
  {
   "cell_type": "markdown",
   "id": "5dc179f7",
   "metadata": {},
   "source": [
    "With the expression for $\\boldsymbol{\\hat{\\theta}_{OLS}}$, you now have what you need to implement OLS regression with your input data and target data $\\boldsymbol{y}$. But before you can do that, you need to set up you input data as a feature matrix $\\boldsymbol{X}$.\n",
    "\n",
    "In a feature matrix, each row is a datapoint and each column is a feature of that data. If you want to predict someones spending based on their income and number of children, for instance, you would create a row for each person in your dataset, with the montly income and the number of children as columns.\n",
    "\n",
    "We typically also include an intercept in our models. The intercept is a value that is added to our prediction regardless of the value of the other features. The intercept tries to account for constant effects in our data that are not dependant on anything else. In our current example, the intercept could account for living expenses which are typical regardless of income or childcare expenses.\n",
    "\n",
    "We calculate the optimal intercept by including a feature with the constant value of 1 in our model, which is then multplied by some parameter $\\theta_0$ from the OLS method into the optimal intercept value (which will be $\\theta_0$). In practice, we include the intercept in our model by adding a column of ones to the start of our feature matrix."
   ]
  },
  {
   "cell_type": "code",
   "execution_count": 3,
   "id": "e5ff2a69",
   "metadata": {},
   "outputs": [],
   "source": [
    "import numpy as np"
   ]
  },
  {
   "cell_type": "code",
   "execution_count": 4,
   "id": "a3cf2792",
   "metadata": {},
   "outputs": [],
   "source": [
    "n = 20\n",
    "income = np.array([116., 161., 167., 118., 172., 163., 179., 173., 162., 116., 101., 176., 178., 172., 143., 135., 160., 101., 149., 125.])\n",
    "children = np.array([5, 3, 0, 4, 5, 3, 0, 4, 4, 3, 3, 5, 1, 0, 2, 3, 2, 1, 5, 4])\n",
    "spending = np.array([152., 141., 102., 136., 161., 129.,  99., 159., 160., 107.,  98., 164., 121.,  93., 112., 127., 117.,  69., 156., 131.])\n"
   ]
  },
  {
   "cell_type": "markdown",
   "id": "5da61481",
   "metadata": {},
   "source": [
    "**a)** Create a feature matrix $\\boldsymbol{X}$ for the features income and children, including an intercept column of ones at the start."
   ]
  },
  {
   "cell_type": "code",
   "execution_count": 5,
   "id": "5ad87a65",
   "metadata": {},
   "outputs": [],
   "source": [
    "# Creating a feature matrix based on income and number of children\n",
    "X = np.zeros((n, 3))\n",
    "X[:, 0] = 1\n",
    "X[:, 1] = income\n",
    "X[:, 2] = children**2\n"
   ]
  },
  {
   "cell_type": "markdown",
   "id": "e0ddfac2",
   "metadata": {},
   "source": [
    "**b)** Use the expression from **3d)** to find the optimal parameters $\\boldsymbol{\\hat{\\beta}_{OLS}}$ for predicting spending based on these features. Create a function for this operation, as you are going to need to use it a lot."
   ]
  },
  {
   "cell_type": "code",
   "execution_count": 6,
   "id": "8f3f68aa",
   "metadata": {},
   "outputs": [],
   "source": [
    "def OLS_parameters(X, y):\n",
    "\n",
    "    theta = (np.linalg.inv(X.T @ X) @ X.T ) @ y\n",
    "\n",
    "    return theta"
   ]
  },
  {
   "cell_type": "markdown",
   "id": "0cb6da80",
   "metadata": {},
   "source": [
    "## Exercise 4 - Fitting a polynomial"
   ]
  },
  {
   "cell_type": "markdown",
   "id": "71015064",
   "metadata": {},
   "source": [
    "In this course, we typically do linear regression using polynomials, though in real world applications it is also very common to make linear models based on measured features like you did in the previous exercise.\n",
    "\n",
    "When fitting a polynomial with linear regression, we make each polynomial degree($x, x^2, x^3, ..., x^p$) its own feature."
   ]
  },
  {
   "cell_type": "code",
   "execution_count": 7,
   "id": "d7476c84",
   "metadata": {},
   "outputs": [
    {
     "name": "stdout",
     "output_type": "stream",
     "text": [
      "[-3.         -2.87755102 -2.75510204 -2.63265306 -2.51020408 -2.3877551\n",
      " -2.26530612 -2.14285714 -2.02040816 -1.89795918 -1.7755102  -1.65306122\n",
      " -1.53061224 -1.40816327 -1.28571429 -1.16326531 -1.04081633 -0.91836735\n",
      " -0.79591837 -0.67346939 -0.55102041 -0.42857143 -0.30612245 -0.18367347\n",
      " -0.06122449  0.06122449  0.18367347  0.30612245  0.42857143  0.55102041\n",
      "  0.67346939  0.79591837  0.91836735  1.04081633  1.16326531  1.28571429\n",
      "  1.40816327  1.53061224  1.65306122  1.7755102   1.89795918  2.02040816\n",
      "  2.14285714  2.26530612  2.3877551   2.51020408  2.63265306  2.75510204\n",
      "  2.87755102  3.        ]\n"
     ]
    }
   ],
   "source": [
    "n = 50\n",
    "x = np.linspace(-3, 3, n)\n",
    "y = np.exp(-x**2) + 1.5 * np.exp(-(x-2)**2) + np.random.normal(0, 0.1)\n",
    "\n",
    "print(x)"
   ]
  },
  {
   "cell_type": "markdown",
   "id": "8321451b",
   "metadata": {},
   "source": [
    "**a)** Create a feature matrix $\\boldsymbol{X}$ for the features $x, x^2, x^3, x^4, x^5$, including an intercept column of ones at the start. Make this into a function, as you will do this a lot over the next weeks."
   ]
  },
  {
   "cell_type": "code",
   "execution_count": 8,
   "id": "91496e40",
   "metadata": {},
   "outputs": [],
   "source": [
    "def polynomial_features(x, p):\n",
    "    n = len(x)\n",
    "    X = np.zeros((n, p + 1))\n",
    "    \n",
    "    for k in range(0, p + 1):\n",
    "        X[:, k] = x**k\n",
    "\n",
    "    return X\n",
    "\n",
    "X = polynomial_features(x, 5)"
   ]
  },
  {
   "cell_type": "markdown",
   "id": "b84b1e31",
   "metadata": {},
   "source": [
    "**b)** Use the expression from **3d)** to find the optimal parameters $\\boldsymbol{\\hat{\\beta}_{OLS}}$ for predicting $\\boldsymbol{y}$ based on these features. If you have done everything right so far, this code will not need changing."
   ]
  },
  {
   "cell_type": "code",
   "execution_count": 9,
   "id": "034f502c",
   "metadata": {},
   "outputs": [],
   "source": [
    "beta = OLS_parameters(X, y)"
   ]
  },
  {
   "cell_type": "markdown",
   "id": "d703f788",
   "metadata": {},
   "source": [
    "**c)** Like in exercise 4 last week, split your feature matrix and target data into a training split and test split."
   ]
  },
  {
   "cell_type": "code",
   "execution_count": 10,
   "id": "29171358",
   "metadata": {},
   "outputs": [],
   "source": [
    "from sklearn.model_selection import train_test_split\n",
    "\n",
    "X_train, X_test, y_train, y_test = train_test_split(X, y)"
   ]
  },
  {
   "cell_type": "markdown",
   "id": "a0e3509f",
   "metadata": {},
   "source": [
    "**d)** Train your model on the training data(find the parameters which best fit) and compute the MSE on both the training and test data."
   ]
  },
  {
   "cell_type": "code",
   "execution_count": 11,
   "id": "6a9c93a5",
   "metadata": {},
   "outputs": [],
   "source": [
    "# MSE function from lecture notes:\n",
    "\n",
    "def MSE(y_data,y_model):\n",
    "    n = np.size(y_model)\n",
    "    return np.sum((y_data-y_model)**2)/n"
   ]
  },
  {
   "cell_type": "code",
   "execution_count": 12,
   "id": "1e346f4c",
   "metadata": {},
   "outputs": [
    {
     "name": "stdout",
     "output_type": "stream",
     "text": [
      "Training mean squared error 0.013159965657819078\n",
      "Training mean squared error 0.018899313619462253\n"
     ]
    }
   ],
   "source": [
    "# Calculating beta (theta) for the training data\n",
    "beta = OLS_parameters(X_train, y_train)\n",
    "\n",
    "# Finding ytilde based on the training features and beta\n",
    "ytilde = X_train @ beta\n",
    "\n",
    "# Calculating training MSE\n",
    "MES_train = MSE(y_train, ytilde)\n",
    "print(\"Training mean squared error\", MES_train)\n",
    "\n",
    "# Calculating test MSE\n",
    "ypredict = X_test @ beta\n",
    "MES_test = MSE(y_test, ypredict)\n",
    "print(\"Training mean squared error\", MES_test)\n",
    "\n"
   ]
  },
  {
   "cell_type": "markdown",
   "id": "7e431889",
   "metadata": {},
   "source": [
    "**e)** Do the same for each polynomial degree from 2 to 10, and plot the MSE on both the training and test data as a function of polynomial degree. The aim is to reproduce Figure 2.11 of [Hastie et al](https://github.com/CompPhysics/MLErasmus/blob/master/doc/Textbooks/elementsstat.pdf). Feel free to read the discussions leading to figure 2.11 of Hastie et al. "
   ]
  },
  {
   "cell_type": "code",
   "execution_count": 13,
   "id": "ceb57457",
   "metadata": {},
   "outputs": [
    {
     "name": "stdout",
     "output_type": "stream",
     "text": [
      "Degree 1: Train MSE = 0.071637, Test MSE = 0.069499\n",
      "Degree 2: Train MSE = 0.051825, Test MSE = 0.051589\n",
      "Degree 3: Train MSE = 0.022100, Test MSE = 0.021930\n",
      "Degree 4: Train MSE = 0.022100, Test MSE = 0.021888\n",
      "Degree 5: Train MSE = 0.018108, Test MSE = 0.021695\n",
      "Degree 6: Train MSE = 0.013675, Test MSE = 0.017103\n",
      "Degree 7: Train MSE = 0.011760, Test MSE = 0.015393\n",
      "Degree 8: Train MSE = 0.007839, Test MSE = 0.010820\n",
      "Degree 9: Train MSE = 0.007769, Test MSE = 0.010377\n",
      "Degree 10: Train MSE = 0.005282, Test MSE = 0.014364\n",
      "Degree 11: Train MSE = 0.005279, Test MSE = 0.014307\n",
      "Degree 12: Train MSE = 0.005259, Test MSE = 0.014406\n",
      "Degree 13: Train MSE = 0.005201, Test MSE = 0.015109\n",
      "Degree 14: Train MSE = 0.005181, Test MSE = 0.015361\n",
      "Degree 15: Train MSE = 0.004992, Test MSE = 0.022853\n"
     ]
    },
    {
     "data": {
      "text/plain": [
       "<matplotlib.legend.Legend at 0x78f059e09e50>"
      ]
     },
     "execution_count": 13,
     "metadata": {},
     "output_type": "execute_result"
    },
    {
     "data": {
      "image/png": "[encoded data removed]",
      "text/plain": [
       "<Figure size 640x480 with 1 Axes>"
      ]
     },
     "metadata": {},
     "output_type": "display_data"
    }
   ],
   "source": [
    "import matplotlib.pyplot as plt\n",
    "\n",
    "# Setting seed to get the same data every time\n",
    "np.random.seed(1016)\n",
    "\n",
    "# Generate the data\n",
    "n = 50\n",
    "x = np.linspace(-3, 3, n)\n",
    "y = np.exp(-x**2) + 1.5 * np.exp(-(x-2)**2) + np.random.normal(0, 0.1, n)\n",
    "\n",
    "degrees = range(1, 16)\n",
    "MSE_train = []\n",
    "MSE_test = []\n",
    "\n",
    "# Split the data before creating the design matrices to make sure all iterations use the same test and training dataset\n",
    "x_train, x_test, y_train, y_test = train_test_split(x, y)\n",
    "\n",
    "# Iterating over all degrees\n",
    "for degree in degrees:   \n",
    "    \n",
    "    # Create a design matrix for current polynomial degree\n",
    "    X_train = polynomial_features(x_train, degree)\n",
    "    X_test = polynomial_features(x_test, degree)\n",
    "    \n",
    "    # Train the model (find optimal parameters)\n",
    "    beta = OLS_parameters(X_train, y_train)\n",
    "    \n",
    "    # Make predictions\n",
    "    y_train_pred = X_train @ beta\n",
    "    y_test_pred = X_test @ beta\n",
    "    \n",
    "    # Calculate MSE for both training and test data\n",
    "    train_mse_current = MSE(y_train, y_train_pred)\n",
    "    test_mse_current = MSE(y_test, y_test_pred)\n",
    "    \n",
    "    # Store results\n",
    "    MSE_train.append(train_mse_current)\n",
    "    MSE_test.append(test_mse_current)\n",
    "    \n",
    "    # Print results\n",
    "    print(f\"Degree {degree}: Train MSE = {train_mse_current:.6f}, Test MSE = {test_mse_current:.6f}\")\n",
    "\n",
    "plt.plot(degrees, MSE_train, 'o-', color='blue', label='Training Error')\n",
    "plt.plot(degrees, MSE_test, 'o-', color='red', label='Test Error')\n",
    "plt.legend()"
   ]
  },
  {
   "cell_type": "markdown",
   "id": "5e5b5954",
   "metadata": {},
   "source": [
    "**f)** Interpret the graph. Why do the lines move as they do? What does it tell us about model performance and generalizability?"
   ]
  },
  {
   "cell_type": "markdown",
   "id": "ad2acfb9",
   "metadata": {},
   "source": [
    "**Answer:**\\\n",
    "**4f)**\n",
    "\n",
    "While the graph varies between runs because of the semi-random nature of data generation and test/train splitting, the general takeaway is that the MSE of the test data, as compared to the MSE of the training data, first decreses, then increases as a function of polynomial degree. This tells us that a more complex model won't always give us a better prediction. More general, we can say that there exists a point, a \"sweet spot\", where we will get the optimal performance from a model depending on the input data and model complexity."
   ]
  },
  {
   "cell_type": "markdown",
   "id": "5994f0c5",
   "metadata": {},
   "source": [
    "## Exercise 5 - Comparing your code with sklearn"
   ]
  },
  {
   "cell_type": "markdown",
   "id": "8f595b7a",
   "metadata": {},
   "source": [
    "When implementing different algorithms for the first time, it can be helpful to double check your results with established implementations before you go on to add more complexity."
   ]
  },
  {
   "cell_type": "markdown",
   "id": "8ab310c1",
   "metadata": {},
   "source": [
    "**a)** Make sure your `polynomial_features` function creates the same feature matrix as sklearns PolynomialFeatures.\n",
    "\n",
    "(https://scikit-learn.org/stable/modules/generated/sklearn.preprocessing.PolynomialFeatures.html)"
   ]
  },
  {
   "cell_type": "code",
   "execution_count": 14,
   "id": "85b964d1",
   "metadata": {},
   "outputs": [
    {
     "name": "stdout",
     "output_type": "stream",
     "text": [
      "[[0. 0. 0.]\n",
      " [0. 0. 0.]\n",
      " [0. 0. 0.]\n",
      " [0. 0. 0.]\n",
      " [0. 0. 0.]\n",
      " [0. 0. 0.]\n",
      " [0. 0. 0.]\n",
      " [0. 0. 0.]\n",
      " [0. 0. 0.]\n",
      " [0. 0. 0.]\n",
      " [0. 0. 0.]\n",
      " [0. 0. 0.]\n",
      " [0. 0. 0.]\n",
      " [0. 0. 0.]\n",
      " [0. 0. 0.]\n",
      " [0. 0. 0.]\n",
      " [0. 0. 0.]\n",
      " [0. 0. 0.]\n",
      " [0. 0. 0.]\n",
      " [0. 0. 0.]\n",
      " [0. 0. 0.]\n",
      " [0. 0. 0.]\n",
      " [0. 0. 0.]\n",
      " [0. 0. 0.]\n",
      " [0. 0. 0.]\n",
      " [0. 0. 0.]\n",
      " [0. 0. 0.]\n",
      " [0. 0. 0.]\n",
      " [0. 0. 0.]\n",
      " [0. 0. 0.]\n",
      " [0. 0. 0.]\n",
      " [0. 0. 0.]\n",
      " [0. 0. 0.]\n",
      " [0. 0. 0.]\n",
      " [0. 0. 0.]\n",
      " [0. 0. 0.]\n",
      " [0. 0. 0.]\n",
      " [0. 0. 0.]\n",
      " [0. 0. 0.]\n",
      " [0. 0. 0.]\n",
      " [0. 0. 0.]\n",
      " [0. 0. 0.]\n",
      " [0. 0. 0.]\n",
      " [0. 0. 0.]\n",
      " [0. 0. 0.]\n",
      " [0. 0. 0.]\n",
      " [0. 0. 0.]\n",
      " [0. 0. 0.]\n",
      " [0. 0. 0.]\n",
      " [0. 0. 0.]]\n"
     ]
    }
   ],
   "source": [
    "from sklearn.preprocessing import PolynomialFeatures\n",
    "\n",
    "# Reenerate the data\n",
    "n = 50\n",
    "x = np.linspace(-3, 3, n)\n",
    "y = np.exp(-x**2) + 1.5 * np.exp(-(x-2)**2) + np.random.normal(0, 0.1, n)\n",
    "\n",
    "# Creating polynomial features using the Sklean function\n",
    "sklearn_poly = PolynomialFeatures(2).fit_transform(x.reshape(-1, 1))\n",
    "\n",
    "# Creating polynomial features using our custom function\n",
    "custom_poly = polynomial_features(x, 2)\n",
    "\n",
    "# Checking that they are the same by subtracting each element with its counterpart. If all elements are zero, the functions give the same result \n",
    "print(custom_poly - sklearn_poly)"
   ]
  },
  {
   "cell_type": "markdown",
   "id": "73c32c52",
   "metadata": {},
   "source": [
    "**b)** Make sure your `OLS_parameters` function computes the same parameters as sklearns LinearRegression with fit_intercept set to False, since the intercept is included in the feature matrix. Use `your_model_object.coef_` to extract the computed parameters.\n",
    "\n",
    "(https://scikit-learn.org/stable/modules/generated/sklearn.linear_model.LinearRegression.html)"
   ]
  },
  {
   "cell_type": "code",
   "execution_count": 15,
   "id": "35b04126",
   "metadata": {},
   "outputs": [
    {
     "name": "stdout",
     "output_type": "stream",
     "text": [
      "[ 0.83405415  0.24070777 -0.05070171]\n",
      "[ 0.83405415  0.24070777 -0.05070171]\n"
     ]
    }
   ],
   "source": [
    "from sklearn.linear_model import LinearRegression\n",
    "\n",
    "custom_theta = OLS_parameters(custom_poly, y)\n",
    "print(custom_theta)\n",
    "\n",
    "sklearn_theta = LinearRegression(fit_intercept=False).fit(sklearn_poly, y).coef_\n",
    "print(sklearn_theta)\n"
   ]
  }
 ],
 "metadata": {
  "kernelspec": {
   "display_name": ".venv",
   "language": "python",
   "name": "python3"
  },
  "language_info": {
   "codemirror_mode": {
    "name": "ipython",
    "version": 3
   },
   "file_extension": ".py",
   "mimetype": "text/x-python",
   "name": "python",
   "nbconvert_exporter": "python",
   "pygments_lexer": "ipython3",
   "version": "3.12.3"
  }
 },
 "nbformat": 4,
 "nbformat_minor": 5
}

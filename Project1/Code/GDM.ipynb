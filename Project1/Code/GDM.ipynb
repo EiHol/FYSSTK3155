{
 "cells": [
  {
   "cell_type": "code",
   "execution_count": 45,
   "id": "45f1b336",
   "metadata": {},
   "outputs": [],
   "source": [
    "# Imports\n",
    "import numpy as np\n",
    "import matplotlib.pyplot as plt\n",
    "from sklearn.model_selection import train_test_split\n",
    "from sklearn.preprocessing import StandardScaler\n",
    "from sklearn.metrics import mean_squared_error\n",
    "from sklearn.preprocessing import PolynomialFeatures"
   ]
  },
  {
   "cell_type": "code",
   "execution_count": 46,
   "id": "5e88ef5e",
   "metadata": {},
   "outputs": [],
   "source": [
    "# Setting seed to get the same data every time\n",
    "np.random.seed(1016)"
   ]
  },
  {
   "cell_type": "code",
   "execution_count": 47,
   "id": "04b9792b",
   "metadata": {},
   "outputs": [],
   "source": [
    "def rugnes(x):\n",
    "    return 1 / (1 + 25*x**2)"
   ]
  },
  {
   "cell_type": "code",
   "execution_count": 48,
   "id": "d69bd5c9",
   "metadata": {},
   "outputs": [],
   "source": [
    "# Setting up the data\n",
    "n = 100\n",
    "x = np.linspace(-1, 1, n)\n",
    "y = rugnes(x)\n"
   ]
  },
  {
   "cell_type": "code",
   "execution_count": null,
   "id": "1c128f95",
   "metadata": {},
   "outputs": [],
   "source": [
    "def GDM_OLS(X, y, alpha=0.9, eta=0.01, n_iterations=1000, tolerance=1e-6):\n",
    "\n",
    "    # Extract number of datapoints and number of parameters from the design matrix\n",
    "    n, p = X.shape\n",
    "    # Selecting a random theta to begin the gradient decent\n",
    "    theta = np.random.randn(p,1)\n",
    "    prev_theta = theta.copy()\n",
    "\n",
    "    # Initial velocity\n",
    "    v = np.zeros((p, 1))\n",
    "\n",
    "    for i in range(n_iterations):\n",
    "        # Compute gradient\n",
    "        gradient = (2/n) * X.T @ (X @ theta - y)\n",
    "        \n",
    "        # Update velocity and theta\n",
    "        v = alpha * v - eta * gradient\n",
    "        theta_new = theta + v\n",
    "        \n",
    "        # Check convergence\n",
    "        if np.linalg.norm(theta_new - theta) < tolerance:\n",
    "            print(f\"GDM converged in {i+1} iterations\")\n",
    "            return theta_new\n",
    "            \n",
    "        theta = theta_new\n",
    "    \n",
    "    return theta\n",
    "\n",
    "    # Return optimal theta\n",
    "    return theta"
   ]
  },
  {
   "cell_type": "code",
   "execution_count": 50,
   "id": "0407043f",
   "metadata": {},
   "outputs": [],
   "source": [
    "def GD_OLS(X, y, eta=0.01, n_iterations=1000, tolerance=1e-6):\n",
    "\n",
    "    # Extract number of datapoints and number of parameters from the design matrix\n",
    "    n, p = X.shape\n",
    "    # Selecting a random theta to begin the gradient decent\n",
    "    theta = np.random.randn(p,1)\n",
    "    prev_theta = theta.copy()\n",
    "\n",
    "    for i in range(n_iterations):\n",
    "\n",
    "        # Compute gradient\n",
    "        gradient = ((2/n) * X.T) @ (X @ theta - y)\n",
    "\n",
    "        # Update theta\n",
    "        theta -= eta * gradient\n",
    "\n",
    "        # Check for convergance\n",
    "        if (np.linalg.norm(prev_theta - theta)) < tolerance:\n",
    "            print(f\"GD converged in {i} iterations\")\n",
    "            break\n",
    "\n",
    "        # Copy theta to previous_theta\n",
    "        prev_theta = theta.copy()\n",
    "\n",
    "    # Return optimal theta\n",
    "    return theta"
   ]
  },
  {
   "cell_type": "code",
   "execution_count": 57,
   "id": "0cba785e",
   "metadata": {},
   "outputs": [],
   "source": [
    "def OLS_reg(x, y, degree, GD=None, test_size=0.3):\n",
    "\n",
    "    x = x.reshape(-1, 1)\n",
    "    y = y.reshape(-1, 1)\n",
    "\n",
    "    # Setting up the design matrix\n",
    "    poly_features = PolynomialFeatures(degree)\n",
    "    X = poly_features.fit_transform(x)\n",
    "\n",
    "    # Splitting data\n",
    "    X_train, X_test, y_train, y_test = train_test_split(X, y, test_size=test_size, random_state=10)\n",
    "\n",
    "    # Computing theta using GD\n",
    "    if GD == \"GDM\":\n",
    "        theta = GDM_OLS(X_train, y_train, alpha=0.9, eta=0.01, n_iterations=1000, tolerance=1e-6)\n",
    "    else:\n",
    "        theta = GD_OLS(X_train, y_train, eta=0.01, n_iterations=1000, tolerance=1e-6)\n",
    "\n",
    "    # Making predictions\n",
    "    y_train_pred = X_train @ theta\n",
    "    y_test_pred = X_test @ theta\n",
    "\n",
    "    # Results\n",
    "    results = {\n",
    "        \"train_mse\": mean_squared_error(y_train, y_train_pred),\n",
    "        \"test_mse\": mean_squared_error(y_test, y_test_pred),\n",
    "        \"theta\": theta,\n",
    "    }\n",
    "\n",
    "    return results"
   ]
  },
  {
   "cell_type": "code",
   "execution_count": 58,
   "id": "e3f68070",
   "metadata": {},
   "outputs": [
    {
     "name": "stdout",
     "output_type": "stream",
     "text": [
      "Vanlilla GD {'train_mse': 0.03292700991791657, 'test_mse': 0.0339311489780706, 'theta': array([[ 0.47484185],\n",
      "       [-0.28669799],\n",
      "       [-0.93430586],\n",
      "       [ 1.35372758],\n",
      "       [ 0.47854063],\n",
      "       [-1.21093821]])}\n",
      "GDM {'train_mse': 0.03823271451444472, 'test_mse': 0.04755348035185188, 'theta': array([[ 0.45892805],\n",
      "       [ 0.17898987],\n",
      "       [-0.53929299],\n",
      "       [-0.73325115],\n",
      "       [-0.09461821],\n",
      "       [ 0.66029292]])}\n"
     ]
    }
   ],
   "source": [
    "print(\"Vanlilla GD\", OLS_reg(x, y, 5))\n",
    "print(\"GDM\", OLS_reg(x, y, 5, \"GDM\"))"
   ]
  },
  {
   "cell_type": "code",
   "execution_count": null,
   "id": "a5176449",
   "metadata": {},
   "outputs": [],
   "source": [
    "def gradient_descent_momentum(X, y, lmbda=0, alpha=0.9, eta=0.01, n_iterations=1000, tolerance=1e-6, method=None):\n",
    "\n",
    "    # Extract number of datapoints and number of parameters from the design matrix\n",
    "    n, p = X.shape\n",
    "    # Selecting a random theta to begin the gradient decent\n",
    "    theta = np.random.randn(p,1)\n",
    "\n",
    "    # Initial velocity\n",
    "    v = np.zeros((p, 1))\n",
    "\n",
    "    for i in range(n_iterations):\n",
    "        # Compute gradient based on selected method\n",
    "        if method==\"ridge\":\n",
    "            gradient = (2/n) * X.T @ (X @ theta - y) + 2*lmbda*theta\n",
    "        elif method==\"lasso\":\n",
    "            gradient = (2/n) * X.T @ (X @ theta - y) + lmbda*np.sign(theta)\n",
    "        else:\n",
    "            gradient = (2/n) * X.T @ (X @ theta - y)\n",
    "        \n",
    "        # Update velocity and theta\n",
    "        v = alpha * v - eta * gradient\n",
    "        theta_new = theta + v\n",
    "        \n",
    "        # Check convergence\n",
    "        if np.linalg.norm(theta_new - theta) < tolerance:\n",
    "            print(f\"GDM converged in {i+1} iterations\")\n",
    "            return theta_new\n",
    "        \n",
    "        # Update theta\n",
    "        theta = theta_new\n",
    "    \n",
    "    return theta"
   ]
  },
  {
   "cell_type": "code",
   "execution_count": null,
   "id": "5dc05ef5",
   "metadata": {},
   "outputs": [],
   "source": []
  }
 ],
 "metadata": {
  "kernelspec": {
   "display_name": ".venv",
   "language": "python",
   "name": "python3"
  },
  "language_info": {
   "codemirror_mode": {
    "name": "ipython",
    "version": 3
   },
   "file_extension": ".py",
   "mimetype": "text/x-python",
   "name": "python",
   "nbconvert_exporter": "python",
   "pygments_lexer": "ipython3",
   "version": "3.12.1"
  }
 },
 "nbformat": 4,
 "nbformat_minor": 5
}

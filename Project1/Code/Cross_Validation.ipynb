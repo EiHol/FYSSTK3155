{
 "cells": [
  {
   "cell_type": "markdown",
   "id": "96e958ad",
   "metadata": {},
   "source": [
    "Cross-Validation"
   ]
  },
  {
   "cell_type": "code",
   "execution_count": 18,
   "id": "a03f6021",
   "metadata": {},
   "outputs": [],
   "source": [
    "# Imports\n",
    "import numpy as np\n",
    "import matplotlib.pyplot as plt\n",
    "from sklearn.model_selection import KFold, LeaveOneOut\n",
    "from sklearn.preprocessing import PolynomialFeatures\n",
    "from OLS_Ridge import fit_polynomial_mod"
   ]
  },
  {
   "cell_type": "code",
   "execution_count": null,
   "id": "65de5d3c",
   "metadata": {},
   "outputs": [],
   "source": [
    "# Cross validation\n",
    "def cross_validation(x, y, degrees=5, n_folds=5, LOO=False, ):\n",
    "    \n",
    "    # List to store results\n",
    "    results = []\n",
    "\n",
    "    if LOO:\n",
    "        # Leave one out CV\n",
    "        folds = LeaveOneOut()\n",
    "    else:\n",
    "        # Initiate k folds\n",
    "        folds = KFold(n_folds)\n",
    "\n",
    "    # Ensure x is 2D\n",
    "    if x.ndim == 1:\n",
    "        x = x.reshape(-1, 1)\n",
    "\n",
    "    # Create polynomial features\n",
    "    poly_features = PolynomialFeatures(degrees)\n",
    "    \n",
    "    # Split the date into n_folds\n",
    "    for i, (train_indx, test_indx) in enumerate(folds.split(x)):\n",
    "        # Extract training and testing data\n",
    "        x_train, x_test, y_train, y_test = x[train_indx], x[test_indx], y[train_indx], y[test_indx]\n",
    "\n",
    "        # Reshape data\n",
    "        y_train = y_train.reshape(-1, 1)\n",
    "        y_test = y_test.reshape(-1, 1)\n",
    "\n",
    "        # Fit the training and test data\n",
    "        X_train = poly_features.fit_transform(x_train)\n",
    "        X_test = poly_features.transform(x_test)\n",
    "\n",
    "        # Perform polynomial fit with selected method\n",
    "        result = fit_polynomial_mod(X_train, X_test, y_train, y_test, n_iter=1000, momentum=True)\n",
    "\n",
    "        # Store results\n",
    "        results.append(result)\n",
    "\n",
    "    return results\n"
   ]
  }
 ],
 "metadata": {
  "kernelspec": {
   "display_name": ".venv",
   "language": "python",
   "name": "python3"
  },
  "language_info": {
   "codemirror_mode": {
    "name": "ipython",
    "version": 3
   },
   "file_extension": ".py",
   "mimetype": "text/x-python",
   "name": "python",
   "nbconvert_exporter": "python",
   "pygments_lexer": "ipython3",
   "version": "3.12.1"
  }
 },
 "nbformat": 4,
 "nbformat_minor": 5
}

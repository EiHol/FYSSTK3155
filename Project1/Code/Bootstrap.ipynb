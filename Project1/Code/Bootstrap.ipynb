{
 "cells": [
  {
   "cell_type": "markdown",
   "id": "42ff0798",
   "metadata": {},
   "source": [
    "Bootstrap code"
   ]
  },
  {
   "cell_type": "code",
   "execution_count": 1,
   "id": "80c9fa4c",
   "metadata": {},
   "outputs": [],
   "source": [
    "# Imports\n",
    "import numpy as np\n",
    "import matplotlib.pyplot as plt\n",
    "from sklearn.utils import resample"
   ]
  },
  {
   "cell_type": "code",
   "execution_count": null,
   "id": "2fc990fc",
   "metadata": {},
   "outputs": [],
   "source": [
    "def bootstrap(data, n_samples, n_bootstraps):\n",
    "    # Resampling with replacement\n",
    "    replacement = True\n",
    "\n",
    "    # Store the datasets in an array\n",
    "    datasets = np.empty((n_bootstraps, n_samples))\n",
    "\n",
    "    for i in range(n_bootstraps):\n",
    "        # Performe bootstrapping\n",
    "        datasets[i] = resample(data, replace=replacement, n_samples=n_samples)\n",
    "\n",
    "    # Return an array of bootstrap datasets\n",
    "    return datasets"
   ]
  },
  {
   "cell_type": "markdown",
   "id": "f56feb25",
   "metadata": {},
   "source": [
    "Bootstrap test"
   ]
  },
  {
   "cell_type": "code",
   "execution_count": 16,
   "id": "38f10999",
   "metadata": {},
   "outputs": [
    {
     "name": "stdout",
     "output_type": "stream",
     "text": [
      "[0 1 1 1 2 2 2 2 3 4 4 4 4 5 5 6 6 7 7 8 8 9 9]\n",
      "4.3478260869565215\n"
     ]
    },
    {
     "data": {
      "image/png": "[encoded data removed]",
      "text/plain": [
       "<Figure size 640x480 with 1 Axes>"
      ]
     },
     "metadata": {},
     "output_type": "display_data"
    }
   ],
   "source": [
    "# Test array\n",
    "X = np.array([0,1,2,3,4,5,6,6,1,4,1,2,7,4,8,9,9,8,7,5,2,4,2])\n",
    "\n",
    "print(np.sort(X))\n",
    "\n",
    "# Perform bootstrapping\n",
    "boots = bootstrap(X, 5, 100)\n",
    "\n",
    "# Plot a histogram og all bootstraps\n",
    "plt.hist(boots.flatten())\n",
    "\n",
    "print(np.mean(X))"
   ]
  },
  {
   "cell_type": "code",
   "execution_count": null,
   "id": "6d37cdb8",
   "metadata": {},
   "outputs": [],
   "source": []
  }
 ],
 "metadata": {
  "kernelspec": {
   "display_name": ".venv",
   "language": "python",
   "name": "python3"
  },
  "language_info": {
   "codemirror_mode": {
    "name": "ipython",
    "version": 3
   },
   "file_extension": ".py",
   "mimetype": "text/x-python",
   "name": "python",
   "nbconvert_exporter": "python",
   "pygments_lexer": "ipython3",
   "version": "3.12.1"
  }
 },
 "nbformat": 4,
 "nbformat_minor": 5
}

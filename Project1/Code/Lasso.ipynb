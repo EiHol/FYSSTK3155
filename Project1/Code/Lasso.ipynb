{
 "cells": [
  {
   "cell_type": "markdown",
   "id": "a0c72044",
   "metadata": {},
   "source": [
    "Lasso regression"
   ]
  },
  {
   "cell_type": "code",
   "execution_count": 54,
   "id": "35d2ff9f",
   "metadata": {},
   "outputs": [],
   "source": [
    "# Imports\n",
    "import numpy as np\n",
    "import matplotlib.pyplot as plt\n",
    "from sklearn.model_selection import train_test_split\n",
    "from sklearn.preprocessing import StandardScaler\n",
    "from sklearn.metrics import mean_squared_error\n",
    "from sklearn.preprocessing import PolynomialFeatures"
   ]
  },
  {
   "cell_type": "code",
   "execution_count": 55,
   "id": "177f9e56",
   "metadata": {},
   "outputs": [],
   "source": [
    "# Setting seed to get the same data every time\n",
    "np.random.seed(1016)"
   ]
  },
  {
   "cell_type": "code",
   "execution_count": 56,
   "id": "c822fa72",
   "metadata": {},
   "outputs": [],
   "source": [
    "def rugnes(x):\n",
    "    return 1 / (1 + 25*x**2)"
   ]
  },
  {
   "cell_type": "code",
   "execution_count": 57,
   "id": "74849bd1",
   "metadata": {},
   "outputs": [],
   "source": [
    "# Setting up the data\n",
    "n = 100\n",
    "x = np.linspace(-1, 1, n)\n",
    "y = rugnes(x)\n",
    "\n"
   ]
  },
  {
   "cell_type": "code",
   "execution_count": 58,
   "id": "9cbec0db",
   "metadata": {},
   "outputs": [],
   "source": [
    "def GD_lasso(X, y, lmbda=0.01, eta=0.01, n_iterations=1000, tolerance=1e-6):\n",
    "\n",
    "    # Extract number of datapoints and number of parameters from the design matrix\n",
    "    n, p = X.shape\n",
    "\n",
    "    # Selecting a random theta to begin the gradient decent\n",
    "    theta = np.random.randn(p,1)\n",
    "    prev_theta = theta.copy()\n",
    "\n",
    "    for i in range(n_iterations):\n",
    "\n",
    "        # Compute gradient\n",
    "        gradient = (-(2/n) * X.T @ (y - X @ theta)) + (lmbda * np.sign(theta))\n",
    "\n",
    "        # Update theta\n",
    "        theta -= eta * gradient\n",
    "\n",
    "        # Check for convergance\n",
    "        if (np.linalg.norm(prev_theta - theta)) < tolerance:\n",
    "            break\n",
    "\n",
    "        # Copy theta to previous_theta\n",
    "        prev_theta = theta.copy()\n",
    "\n",
    "    # Return optimal theta\n",
    "    return theta"
   ]
  },
  {
   "cell_type": "code",
   "execution_count": 59,
   "id": "4a1d9180",
   "metadata": {},
   "outputs": [],
   "source": [
    "def GDM_Lasso(X, y, lmbda=0.01, alpha=0.9, eta=0.01, n_iterations=1000, tolerance=1e-6):\n",
    "\n",
    "    # Initial velocity\n",
    "    v = 0\n",
    "\n",
    "    # Extract number of datapoints and number of parameters from the design matrix\n",
    "    n, p = X.shape\n",
    "    # Selecting a random theta to begin the gradient decent\n",
    "    theta = np.random.randn(p,1)\n",
    "    prev_theta = theta.copy()\n",
    "\n",
    "    for i in range(n_iterations):\n",
    "\n",
    "        # Compute gradient\n",
    "        gradient = (-(2/n) * X.T @ (y - X @ theta)) + (lmbda * np.sign(theta))\n",
    "\n",
    "        # Update velocity\n",
    "        v = alpha * v - eta * gradient\n",
    "\n",
    "        # Update theta\n",
    "        theta += v\n",
    "\n",
    "        # Check for convergance\n",
    "        if (np.linalg.norm(prev_theta - theta)) < tolerance:\n",
    "            print(f\"GDM0 converged in {i} iterations\")\n",
    "            break\n",
    "\n",
    "        # Copy theta to previous_theta\n",
    "        prev_theta = theta.copy()\n",
    "\n",
    "    # Return optimal theta\n",
    "    return theta"
   ]
  },
  {
   "cell_type": "code",
   "execution_count": 63,
   "id": "c9fd61eb",
   "metadata": {},
   "outputs": [],
   "source": [
    "def Lasso_reg(x, y, degree, GD=None, lmbda=0.01, test_size=0.3):\n",
    "\n",
    "    x = x.reshape(-1, 1)\n",
    "    y = y.reshape(-1, 1)\n",
    "\n",
    "    # Setting up the design matrix\n",
    "    poly_features = PolynomialFeatures(degree)\n",
    "    X = poly_features.fit_transform(x)\n",
    "\n",
    "    # Splitting data\n",
    "    X_train, X_test, y_train, y_test = train_test_split(X, y, test_size=test_size, random_state=10)\n",
    "\n",
    "    # Scale features\n",
    "    scaler = StandardScaler()\n",
    "    X_train_s = scaler.fit_transform(X_train)\n",
    "    X_test_s = scaler.transform(X_test)\n",
    "\n",
    "    # Compute theta based on selected GD method\n",
    "    if GD == \"GDM\":\n",
    "        theta = GDM_Lasso(X_train_s, y_train, lmbda=lmbda, alpha=0.9, eta=0.01, n_iterations=1000, tolerance=1e-6)\n",
    "    else:\n",
    "        theta = GD_lasso(X_train_s, y_train, lmbda=lmbda, eta=0.01, n_iterations=1000, tolerance=1e-6)\n",
    "\n",
    "    # Making predictions\n",
    "    y_train_pred = X_train_s @ theta\n",
    "    y_test_pred = X_test_s @ theta\n",
    "\n",
    "    # Results\n",
    "    results = {\n",
    "        \"train_mse\": mean_squared_error(y_train, y_train_pred),\n",
    "        \"test_mse\": mean_squared_error(y_test, y_test_pred),\n",
    "        \"theta\": theta\n",
    "    }\n",
    "\n",
    "    return results"
   ]
  },
  {
   "cell_type": "code",
   "execution_count": 64,
   "id": "03c14706",
   "metadata": {},
   "outputs": [
    {
     "name": "stdout",
     "output_type": "stream",
     "text": [
      "GD: {'train_mse': 0.10798673478049195, 'test_mse': 0.15608483892504404, 'theta': array([[-0.11222373],\n",
      "       [-0.25112731],\n",
      "       [-0.20148195],\n",
      "       [ 0.26586368]])}\n",
      "GDM: {'train_mse': 0.0972401873298543, 'test_mse': 0.12472270326442149, 'theta': array([[ 6.49253491e-05],\n",
      "       [ 5.26440778e-03],\n",
      "       [-1.93601056e-01],\n",
      "       [ 3.19397815e-03]])}\n"
     ]
    }
   ],
   "source": [
    "print(\"GD:\", Lasso_reg(x, y, 3))\n",
    "print(\"GDM:\", Lasso_reg(x, y, 3, \"GDM\"))"
   ]
  },
  {
   "cell_type": "code",
   "execution_count": null,
   "id": "fb693ddb",
   "metadata": {},
   "outputs": [],
   "source": []
  }
 ],
 "metadata": {
  "kernelspec": {
   "display_name": ".venv",
   "language": "python",
   "name": "python3"
  },
  "language_info": {
   "codemirror_mode": {
    "name": "ipython",
    "version": 3
   },
   "file_extension": ".py",
   "mimetype": "text/x-python",
   "name": "python",
   "nbconvert_exporter": "python",
   "pygments_lexer": "ipython3",
   "version": "3.12.1"
  }
 },
 "nbformat": 4,
 "nbformat_minor": 5
}

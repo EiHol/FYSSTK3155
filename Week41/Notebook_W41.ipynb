{
 "cells": [
  {
   "cell_type": "markdown",
   "id": "4b4c06bc",
   "metadata": {},
   "source": [
    "<!-- HTML file automatically generated from DocOnce source (https://github.com/doconce/doconce/)\n",
    "doconce format html exercisesweek41.do.txt  -->\n",
    "<!-- dom:TITLE: Exercises week 41 -->\n"
   ]
  },
  {
   "cell_type": "markdown",
   "id": "bcb25e64",
   "metadata": {},
   "source": [
    "# Exercises week 41\n",
    "\n",
    "**October 6-10, 2025**\n",
    "\n",
    "Date: **Deadline is Friday October 10 at midnight**\n"
   ]
  },
  {
   "cell_type": "markdown",
   "id": "bb01f126",
   "metadata": {},
   "source": [
    "# Overarching aims of the exercises this week\n",
    "\n",
    "This week, you will implement the entire feed-forward pass of a neural network! Next week you will compute the gradient of the network by implementing back-propagation manually, and by using autograd which does back-propagation for you (much easier!). Next week, you will also use the gradient to optimize the network with a gradient method! However, there is an optional exercise this week to get started on training the network and getting good results!\n",
    "\n",
    "We recommend that you do the exercises this week by editing and running this notebook file, as it includes some checks along the way that you have implemented the pieces of the feed-forward pass correctly, and running small parts of the code at a time will be important for understanding the methods.\n",
    "\n",
    "If you have trouble running a notebook, you can run this notebook in google colab instead (https://colab.research.google.com/drive/1zKibVQf-iAYaAn2-GlKfgRjHtLnPlBX4#offline=true&sandboxMode=true), an updated link will be provided on the course discord (you can also send an email to k.h.fredly@fys.uio.no if you encounter any trouble), though we recommend that you set up VSCode and your python environment to run code like this locally.\n",
    "\n",
    "First, here are some functions you are going to need, don't change this cell. If you are unable to import autograd, just swap in normal numpy until you want to do the final optional exercise.\n"
   ]
  },
  {
   "cell_type": "code",
   "execution_count": 35,
   "id": "c6f61b09",
   "metadata": {},
   "outputs": [],
   "source": [
    "import autograd.numpy as np  # We need to use this numpy wrapper to make automatic differentiation work later\n",
    "from sklearn import datasets\n",
    "import matplotlib.pyplot as plt\n",
    "from sklearn.metrics import accuracy_score\n",
    "from numpy.typing import NDArray\n",
    "\n",
    "\n",
    "# Defining some activation functions\n",
    "def ReLU(z):\n",
    "    return np.where(z > 0, z, 0)\n",
    "\n",
    "\n",
    "def sigmoid(z):\n",
    "    return 1 / (1 + np.exp(-z))\n",
    "\n",
    "\n",
    "def softmax(z):\n",
    "    \"\"\"Compute softmax values for each set of scores in the rows of the matrix z.\n",
    "    Used with batched input data.\"\"\"\n",
    "    e_z = np.exp(z - np.max(z, axis=0))\n",
    "    return e_z / np.sum(e_z, axis=1)[:, np.newaxis]\n",
    "\n",
    "\n",
    "def softmax_vec(z):\n",
    "    \"\"\"Compute softmax values for each set of scores in the vector z.\n",
    "    Use this function when you use the activation function on one vector at a time\"\"\"\n",
    "    e_z = np.exp(z - np.max(z))\n",
    "    return e_z / np.sum(e_z)"
   ]
  },
  {
   "cell_type": "markdown",
   "id": "6248ec53",
   "metadata": {},
   "source": [
    "# Exercise 1\n",
    "\n",
    "In this exercise you will compute the activation of the first layer. You only need to change the code in the cells right below an exercise, the rest works out of the box. Feel free to make changes and see how stuff works though!\n"
   ]
  },
  {
   "cell_type": "code",
   "execution_count": 36,
   "id": "37f30740",
   "metadata": {},
   "outputs": [
    {
     "name": "stdout",
     "output_type": "stream",
     "text": [
      "[1.66804732 0.73734773]\n",
      "[[-0.20153776 -0.15091195]\n",
      " [ 0.91605181  1.16032964]\n",
      " [-2.619962   -1.32529457]\n",
      " [ 0.45998862  0.10205165]]\n"
     ]
    }
   ],
   "source": [
    "np.random.seed(2024)\n",
    "\n",
    "x = np.random.randn(2)  # network input. This is a single input with two features\n",
    "W1 = np.random.randn(4, 2)  # first layer weights\n",
    "\n",
    "print(x)\n",
    "print(W1)"
   ]
  },
  {
   "cell_type": "markdown",
   "id": "4ed2cf3d",
   "metadata": {},
   "source": [
    "**a)** Given the shape of the first layer weight matrix, what is the input shape of the neural network? What is the output shape of the first layer?\n",
    "\n",
    "**Answer:**\n",
    "The first layer weight matrix has the shape (4, 2), the input is given by x (2, ). The output shape of the first layer is given by the multiplication of W1 and x, which results in the shape (4, )"
   ]
  },
  {
   "cell_type": "markdown",
   "id": "edf7217b",
   "metadata": {},
   "source": [
    "**b)** Define the bias of the first layer, `b1`with the correct shape. (Run the next cell right after the previous to get the random generated values to line up with the test solution below)\n"
   ]
  },
  {
   "cell_type": "code",
   "execution_count": 37,
   "id": "2129c19f",
   "metadata": {},
   "outputs": [
    {
     "name": "stdout",
     "output_type": "stream",
     "text": [
      "[ 1.05355278  1.62404261 -1.50063502 -0.27783169]\n"
     ]
    }
   ],
   "source": [
    "b1 = np.random.randn(4)\n",
    "\n",
    "print(b1)"
   ]
  },
  {
   "cell_type": "markdown",
   "id": "09e8d453",
   "metadata": {},
   "source": [
    "**c)** Compute the intermediary `z1` for the first layer\n"
   ]
  },
  {
   "cell_type": "code",
   "execution_count": 38,
   "id": "6837119b",
   "metadata": {},
   "outputs": [
    {
     "name": "stdout",
     "output_type": "stream",
     "text": [
      "[ 0.60610368  4.0076268  -6.84805855  0.56469864]\n"
     ]
    }
   ],
   "source": [
    "z1 = W1 @ x + b1\n",
    "\n",
    "print(z1)"
   ]
  },
  {
   "cell_type": "markdown",
   "id": "6f71374e",
   "metadata": {},
   "source": [
    "**d)** Compute the activation `a1` for the first layer using the ReLU activation function defined earlier.\n"
   ]
  },
  {
   "cell_type": "code",
   "execution_count": 39,
   "id": "8d41ed19",
   "metadata": {},
   "outputs": [
    {
     "name": "stdout",
     "output_type": "stream",
     "text": [
      "[0.60610368 4.0076268  0.         0.56469864]\n"
     ]
    }
   ],
   "source": [
    "a1 = ReLU(z1)\n",
    "\n",
    "print(a1)"
   ]
  },
  {
   "cell_type": "markdown",
   "id": "088710c0",
   "metadata": {},
   "source": [
    "Confirm that you got the correct activation with the test below. Make sure that you define `b1` with the randn function right after you define `W1`.\n"
   ]
  },
  {
   "cell_type": "code",
   "execution_count": 40,
   "id": "4d2f54b4",
   "metadata": {},
   "outputs": [
    {
     "name": "stdout",
     "output_type": "stream",
     "text": [
      "True\n"
     ]
    }
   ],
   "source": [
    "sol1 = np.array([0.60610368, 4.0076268, 0.0, 0.56469864])\n",
    "\n",
    "print(np.allclose(a1, sol1))"
   ]
  },
  {
   "cell_type": "markdown",
   "id": "7fb0cf46",
   "metadata": {},
   "source": [
    "# Exercise 2\n",
    "\n",
    "Now we will add a layer to the network with an output of length 8 and ReLU activation.\n",
    "\n",
    "**a)** What is the input of the second layer? What is its shape?\n",
    "\n",
    "**b)** Define the weight and bias of the second layer with the right shapes.\n"
   ]
  },
  {
   "cell_type": "code",
   "execution_count": 41,
   "id": "00063acf",
   "metadata": {},
   "outputs": [
    {
     "name": "stdout",
     "output_type": "stream",
     "text": [
      "[[ 1.19399502  0.86181533 -0.41704604 -0.24953642]\n",
      " [ 0.94367735 -0.76631064  0.20822873  1.40872293]\n",
      " [-1.48910401 -1.47580853  0.99084632 -0.88323043]\n",
      " [-0.36618388 -1.53470503 -0.35157551  0.63991811]\n",
      " [ 0.68923917  0.75725237 -1.43054977 -0.4288793 ]\n",
      " [-0.68501186 -0.12564086  1.14458724  0.32720979]\n",
      " [-0.13672744  0.17919391  0.96897707  0.00587009]\n",
      " [ 0.59050544 -0.39247637  0.03591147 -0.33075495]]\n",
      "[ 0.80877607  0.05331094 -1.31890201 -1.0797807  -0.37596827  0.14872677\n",
      "  1.81491884  0.55249894]\n"
     ]
    }
   ],
   "source": [
    "W2 = np.random.randn(8, 4)\n",
    "b2 = np.random.randn(8)\n",
    "\n",
    "print(W2)\n",
    "print(b2)"
   ]
  },
  {
   "cell_type": "markdown",
   "id": "5bd7d84b",
   "metadata": {},
   "source": [
    "**c)** Compute the intermediary `z2` and activation `a2` for the second layer.\n"
   ]
  },
  {
   "cell_type": "code",
   "execution_count": 42,
   "id": "2fd0383d",
   "metadata": {},
   "outputs": [
    {
     "name": "stdout",
     "output_type": "stream",
     "text": [
      "[ 4.84538217 -1.65030586 -8.63470228 -7.09089022  2.83437944 -0.58520821\n",
      "  2.45350499 -0.84926925]\n",
      "[4.84538217 0.         0.         0.         2.83437944 0.\n",
      " 2.45350499 0.        ]\n"
     ]
    }
   ],
   "source": [
    "z2 = W2 @ a1 + b2\n",
    "a2 = ReLU(z2)\n",
    "\n",
    "print(z2)\n",
    "print(a2)"
   ]
  },
  {
   "cell_type": "markdown",
   "id": "1b5daae5",
   "metadata": {},
   "source": [
    "Confirm that you got the correct activation shape with the test below.\n"
   ]
  },
  {
   "cell_type": "code",
   "execution_count": 43,
   "id": "f7f2f8a1",
   "metadata": {},
   "outputs": [
    {
     "name": "stdout",
     "output_type": "stream",
     "text": [
      "True\n"
     ]
    }
   ],
   "source": [
    "print(\n",
    "    np.allclose(np.exp(len(a2)), 2980.9579870417283)\n",
    ")  # This should evaluate to True if a2 has the correct shape :)"
   ]
  },
  {
   "cell_type": "markdown",
   "id": "3759620d",
   "metadata": {},
   "source": [
    "# Exercise 3\n",
    "\n",
    "We often want our neural networks to have many layers of varying sizes. To avoid writing very long and error-prone code where we explicitly define and evaluate each layer we should keep all our layers in a single variable which is easy to create and use.\n",
    "\n",
    "**a)** Complete the function below so that it returns a list `layers` of weight and bias tuples `(W, b)` for each layer, in order, with the correct shapes that we can use later as our network parameters.\n"
   ]
  },
  {
   "cell_type": "code",
   "execution_count": 44,
   "id": "c58f10f9",
   "metadata": {},
   "outputs": [],
   "source": [
    "def create_layers(network_input_size, layer_output_sizes):\n",
    "    layers = []\n",
    "\n",
    "    # Number of inputs in the current layer\n",
    "    i_size = network_input_size\n",
    "\n",
    "    # For each output layer size\n",
    "    for layer_output_size in layer_output_sizes:\n",
    "\n",
    "        # w has the shape of the current output layer size x the current input size\n",
    "        W = np.random.randn(layer_output_size, i_size)\n",
    "\n",
    "        # b has the shape of the current output layer size\n",
    "        b = np.random.randn(layer_output_size)\n",
    "        \n",
    "        # Append to the layer list\n",
    "        layers.append((W, b))\n",
    "\n",
    "        # Update i_size to the output size of the current layer\n",
    "        i_size = layer_output_size\n",
    "\n",
    "    return layers"
   ]
  },
  {
   "cell_type": "markdown",
   "id": "bdc0cda2",
   "metadata": {},
   "source": [
    "**b)** Comple the function below so that it evaluates the intermediary `z` and activation `a` for each layer, with ReLU actication, and returns the final activation `a`. This is the complete feed-forward pass, a full neural network!\n"
   ]
  },
  {
   "cell_type": "code",
   "execution_count": 45,
   "id": "5262df05",
   "metadata": {},
   "outputs": [],
   "source": [
    "def feed_forward_all_relu(layers, input):\n",
    "\n",
    "    # Set the current a to the input vector\n",
    "    a = input\n",
    "\n",
    "    # For each weight and bias in the network layers\n",
    "    for W, b in layers:\n",
    "        \n",
    "        # Calculate z for the current W and b, and the previous a\n",
    "        z = W @ a + b\n",
    "\n",
    "        # Calculate a using the ReLU function\n",
    "        a = ReLU(z)\n",
    "\n",
    "        print(\"z\", z.shape)\n",
    "        print(\"a\", a.shape)\n",
    "\n",
    "    return a"
   ]
  },
  {
   "cell_type": "markdown",
   "id": "245adbcb",
   "metadata": {},
   "source": [
    "**c)** Create a network with input size 8 and layers with output sizes 10, 16, 6, 2. Evaluate it and make sure that you get the correct size vectors along the way.\n"
   ]
  },
  {
   "cell_type": "code",
   "execution_count": 46,
   "id": "89a8f70d",
   "metadata": {},
   "outputs": [
    {
     "name": "stdout",
     "output_type": "stream",
     "text": [
      "z (10,)\n",
      "a (10,)\n",
      "z (16,)\n",
      "a (16,)\n",
      "z (6,)\n",
      "a (6,)\n",
      "z (2,)\n",
      "a (2,)\n",
      "[8.22965745 0.        ]\n"
     ]
    }
   ],
   "source": [
    "input_size = 10\n",
    "layer_output_sizes = [10, 16, 6, 2]\n",
    "\n",
    "x = np.random.rand(input_size)\n",
    "layers = create_layers(input_size, layer_output_sizes)\n",
    "predict = feed_forward_all_relu(layers, x)\n",
    "print(predict)"
   ]
  },
  {
   "cell_type": "markdown",
   "id": "0da7fd52",
   "metadata": {},
   "source": [
    "**d)** Why is a neural network with no activation functions always mathematically equivelent to a neural network with only one layer?\n",
    "\n",
    "**Answer:**\n"
   ]
  },
  {
   "cell_type": "markdown",
   "id": "306d8b7c",
   "metadata": {},
   "source": [
    "# Exercise 4 - Custom activation for each layer\n"
   ]
  },
  {
   "cell_type": "markdown",
   "id": "221c7b6c",
   "metadata": {},
   "source": [
    "So far, every layer has used the same activation, ReLU. We often want to use other types of activation however, so we need to update our code to support multiple types of activation functions. Make sure that you have completed every previous exercise before trying this one.\n"
   ]
  },
  {
   "cell_type": "markdown",
   "id": "10896d06",
   "metadata": {},
   "source": [
    "**a)** Complete the `feed_forward` function which accepts a list of activation functions as an argument, and which evaluates these activation functions at each layer.\n"
   ]
  },
  {
   "cell_type": "code",
   "execution_count": 47,
   "id": "de062369",
   "metadata": {},
   "outputs": [],
   "source": [
    "def feed_forward(input, layers, activation_funcs):\n",
    "    \n",
    "    # Set the current a to the input vector\n",
    "    a = input\n",
    "\n",
    "    # For each layer and activation function\n",
    "    for (W, b), activation_func in zip(layers, activation_funcs):\n",
    "\n",
    "        # Calculate z for the current W and b, and the previous a\n",
    "        z = W @ a + b\n",
    "\n",
    "        # Calculate a using the given activation function\n",
    "        a = activation_func(z)\n",
    "    return a"
   ]
  },
  {
   "cell_type": "markdown",
   "id": "8f7df363",
   "metadata": {},
   "source": [
    "**b)** You are now given a list with three activation functions, two ReLU and one sigmoid. (Don't call them yet! you can make a list with function names as elements, and then call these elements of the list later. If you add other functions than the ones defined at the start of the notebook, make sure everything is defined using autograd's numpy wrapper, like above, since we want to use automatic differentiation on all of these functions later.)\n",
    "\n",
    "Evaluate a network with three layers and these activation functions.\n"
   ]
  },
  {
   "cell_type": "code",
   "execution_count": 48,
   "id": "301b46dc",
   "metadata": {},
   "outputs": [
    {
     "data": {
      "text/plain": [
       "array([1.00000000e+00, 3.08415905e-18, 9.99999999e-01, 3.81169268e-17,\n",
       "       1.09675871e-03, 1.00000000e+00])"
      ]
     },
     "execution_count": 48,
     "metadata": {},
     "output_type": "execute_result"
    }
   ],
   "source": [
    "input_size = 10\n",
    "layer_output_sizes = [10, 16, 6, 2]\n",
    "\n",
    "# ReLU hidden layers, sigmoid output layer\n",
    "activation_funcs = [ReLU, ReLU, sigmoid]\n",
    "layers = create_layers(input_size, layer_output_sizes)\n",
    "\n",
    "x = np.random.randn(input_size)\n",
    "feed_forward(x, layers, activation_funcs)"
   ]
  },
  {
   "cell_type": "code",
   "execution_count": 49,
   "id": "73f4d208",
   "metadata": {},
   "outputs": [
    {
     "data": {
      "text/plain": [
       "array([0.7421218 , 3.32184119, 2.18902417, 0.        , 2.89282724,\n",
       "       0.        ])"
      ]
     },
     "execution_count": 49,
     "metadata": {},
     "output_type": "execute_result"
    }
   ],
   "source": [
    "# Sigmoid hidden layers, ReLU output layer\n",
    "activation_funcs = [sigmoid, sigmoid, ReLU]\n",
    "layers = create_layers(input_size, layer_output_sizes)\n",
    "\n",
    "x = np.random.randn(input_size)\n",
    "feed_forward(x, layers, activation_funcs)"
   ]
  },
  {
   "cell_type": "markdown",
   "id": "9c914fd0",
   "metadata": {},
   "source": [
    "**c)** How does the output of the network change if you use sigmoid in the hidden layers and ReLU in the output layer?\n",
    "\n",
    "**Answer:** The output values are significantly higher. This makes sense because ReLU will set all values lower than 0 to 0, while sigmoid always returns a positive number, as seen in the plot below."
   ]
  },
  {
   "cell_type": "code",
   "execution_count": 50,
   "id": "13c1a1ec",
   "metadata": {},
   "outputs": [
    {
     "data": {
      "text/plain": [
       "<matplotlib.legend.Legend at 0x7e485f473020>"
      ]
     },
     "execution_count": 50,
     "metadata": {},
     "output_type": "execute_result"
    },
    {
     "data": {
      "image/png": "[encoded data removed]",
      "text/plain": [
       "<Figure size 640x480 with 1 Axes>"
      ]
     },
     "metadata": {},
     "output_type": "display_data"
    }
   ],
   "source": [
    "x = np.linspace(-1, 1, 100)\n",
    "\n",
    "y_ReLU = ReLU(x)\n",
    "y_sigmoid = sigmoid(x)\n",
    "\n",
    "plt.plot(x, y_ReLU, label=\"ReLU\")\n",
    "plt.plot(x, y_sigmoid, label=\"Sigmoid\")\n",
    "plt.legend()"
   ]
  },
  {
   "cell_type": "markdown",
   "id": "a8d6c425",
   "metadata": {},
   "source": [
    "# Exercise 5 - Processing multiple inputs at once\n"
   ]
  },
  {
   "cell_type": "markdown",
   "id": "0f4330a4",
   "metadata": {},
   "source": [
    "So far, the feed forward function has taken one input vector as an input. This vector then undergoes a linear transformation and then an element-wise non-linear operation for each layer. This approach of sending one vector in at a time is great for interpreting how the network transforms data with its linear and non-linear operations, but not the best for numerical efficiency. Now, we want to be able to send many inputs through the network at once. This will make the code a bit harder to understand, but it will make it faster, and more compact. It will be worth the trouble.\n",
    "\n",
    "To process multiple inputs at once, while still performing the same operations, you will only need to flip a couple things around.\n"
   ]
  },
  {
   "cell_type": "markdown",
   "id": "17023bb7",
   "metadata": {},
   "source": [
    "**a)** Complete the function `create_layers_batch` so that the weight matrix is the transpose of what it was when you only sent in one input at a time.\n"
   ]
  },
  {
   "cell_type": "code",
   "execution_count": 51,
   "id": "a241fd79",
   "metadata": {},
   "outputs": [],
   "source": [
    "def create_layers_batch(network_input_size : int, layer_output_sizes : list):\n",
    "    layers = []\n",
    "\n",
    "    # Number of inputs in the current layer\n",
    "    i_size = network_input_size\n",
    "\n",
    "    # For each output layer size\n",
    "    for layer_output_size in layer_output_sizes:\n",
    "\n",
    "        # w has the shape of the current output layer size x the current input size\n",
    "        W = np.random.randn(i_size, layer_output_size)\n",
    "\n",
    "        # b has the shape of the current output layer size, 1\n",
    "        b = np.random.randn(1, layer_output_size)\n",
    "        \n",
    "        # Append to the layer list\n",
    "        layers.append((W, b))\n",
    "\n",
    "        # Update i_size to the output size of the current layer\n",
    "        i_size = layer_output_size\n",
    "    return layers"
   ]
  },
  {
   "cell_type": "markdown",
   "id": "a6349db6",
   "metadata": {},
   "source": [
    "**b)** Make a matrix of inputs with the shape (number of features, number of inputs), you choose the number of inputs and features per input. Then complete the function `feed_forward_batch` so that you can process this matrix of inputs with only one matrix multiplication and one broadcasted vector addition per layer. (Hint: You will only need to swap two variable around from your previous implementation, but remember to test that you get the same results for equivelent inputs!)\n"
   ]
  },
  {
   "cell_type": "code",
   "execution_count": 52,
   "id": "425f3bcc",
   "metadata": {},
   "outputs": [],
   "source": [
    "def feed_forward_batch(inputs : NDArray, layers : list, activation_funcs : list):\n",
    "    # Set the current a to the input vector\n",
    "    a = inputs\n",
    "\n",
    "    # For each layer and activation function\n",
    "    for (W, b), activation_func in zip(layers, activation_funcs):\n",
    "\n",
    "        # Calculate z for the current W and b, and the previous a\n",
    "        z = a @ W + b\n",
    "\n",
    "        # Calculate a using the given activation function\n",
    "        a = activation_func(z)\n",
    "\n",
    "    return a"
   ]
  },
  {
   "cell_type": "markdown",
   "id": "efd07b4e",
   "metadata": {},
   "source": [
    "**c)** Create and evaluate a neural network with 4 inputs and layers with output sizes 12, 10, 3 and activations ReLU, ReLU, softmax.\n"
   ]
  },
  {
   "cell_type": "code",
   "execution_count": 53,
   "id": "ce6fcc2f",
   "metadata": {},
   "outputs": [
    {
     "data": {
      "text/plain": [
       "array([[5.72153441e-04, 7.43029751e-15, 3.76666309e-06, 9.99418676e-01,\n",
       "        5.66787142e-10, 5.40286256e-06],\n",
       "       [3.44958004e-04, 2.36852071e-04, 6.15408601e-10, 9.55704691e-01,\n",
       "        1.48851716e-09, 4.37134969e-02],\n",
       "       [7.02536694e-01, 1.30067188e-19, 1.25317712e-02, 2.82421922e-01,\n",
       "        1.57234908e-03, 9.37263471e-04],\n",
       "       [2.81708100e-03, 3.88785355e-19, 4.75635872e-01, 2.98492239e-03,\n",
       "        5.11961006e-01, 6.60111933e-03],\n",
       "       [1.00701037e-02, 2.94273322e-10, 5.09831479e-01, 2.59853783e-04,\n",
       "        2.43876561e-01, 2.35962002e-01],\n",
       "       [7.78025374e-04, 9.99220784e-01, 3.04734909e-13, 1.05138753e-07,\n",
       "        1.09455573e-13, 1.08543015e-06],\n",
       "       [3.04060671e-05, 4.63402917e-20, 4.89394948e-01, 1.59304273e-04,\n",
       "        4.89394948e-01, 2.10203930e-02],\n",
       "       [7.66735437e-04, 1.62223561e-15, 4.26532899e-01, 1.14270800e-03,\n",
       "        7.59611703e-02, 4.95596488e-01],\n",
       "       [1.31361204e-01, 1.36856007e-09, 2.41706789e-06, 3.76919552e-01,\n",
       "        1.02105978e-05, 4.91706616e-01],\n",
       "       [8.36664887e-02, 1.53857298e-10, 6.59565618e-01, 5.95643695e-02,\n",
       "        6.15310509e-02, 1.35672473e-01],\n",
       "       [1.27770624e-04, 8.93049998e-12, 2.63900893e-01, 7.99579923e-05,\n",
       "        2.07166277e-03, 7.33819716e-01],\n",
       "       [9.99938556e-01, 4.74011950e-11, 1.55634057e-05, 4.19713670e-05,\n",
       "        4.39953447e-08, 3.86516910e-06]])"
      ]
     },
     "execution_count": 53,
     "metadata": {},
     "output_type": "execute_result"
    }
   ],
   "source": [
    "inputs = np.random.randn(12, 4) # (n_features, n_inputs)\n",
    "network_input_size = 4\n",
    "layer_output_sizes = [10, 16, 6, 2]\n",
    "activation_funcs = [ReLU, ReLU, softmax]\n",
    "layers = create_layers_batch(network_input_size, layer_output_sizes)\n",
    "\n",
    "\n",
    "\n",
    "feed_forward_batch(inputs, layers, activation_funcs)"
   ]
  },
  {
   "cell_type": "markdown",
   "id": "87999271",
   "metadata": {},
   "source": [
    "You should use this batched approach moving forward, as it will lead to much more compact code. However, remember that each input is still treated separately, and that you will need to keep in mind the transposed weight matrix and other details when implementing backpropagation.\n"
   ]
  },
  {
   "cell_type": "markdown",
   "id": "237eb782",
   "metadata": {},
   "source": [
    "# Exercise 6 - Predicting on real data\n"
   ]
  },
  {
   "cell_type": "markdown",
   "id": "54d5fde7",
   "metadata": {},
   "source": [
    "You will now evaluate your neural network on the iris data set (https://scikit-learn.org/1.5/auto_examples/datasets/plot_iris_dataset.html).\n",
    "\n",
    "This dataset contains data on 150 flowers of 3 different types which can be separated pretty well using the four features given for each flower, which includes the width and length of their leaves. You will later train your network to actually make good predictions.\n"
   ]
  },
  {
   "cell_type": "code",
   "execution_count": 54,
   "id": "6bd4c148",
   "metadata": {},
   "outputs": [
    {
     "data": {
      "image/png": "[encoded data removed]",
      "text/plain": [
       "<Figure size 640x480 with 1 Axes>"
      ]
     },
     "metadata": {},
     "output_type": "display_data"
    }
   ],
   "source": [
    "iris = datasets.load_iris()\n",
    "\n",
    "_, ax = plt.subplots()\n",
    "scatter = ax.scatter(iris.data[:, 0], iris.data[:, 1], c=iris.target)\n",
    "ax.set(xlabel=iris.feature_names[0], ylabel=iris.feature_names[1])\n",
    "_ = ax.legend(\n",
    "    scatter.legend_elements()[0], iris.target_names, loc=\"lower right\", title=\"Classes\"\n",
    ")"
   ]
  },
  {
   "cell_type": "code",
   "execution_count": 55,
   "id": "ed3e2fc9",
   "metadata": {},
   "outputs": [],
   "source": [
    "inputs = iris.data\n",
    "\n",
    "# Since each prediction is a vector with a score for each of the three types of flowers,\n",
    "# we need to make each target a vector with a 1 for the correct flower and a 0 for the others.\n",
    "targets = np.zeros((len(iris.data), 3))\n",
    "for i, t in enumerate(iris.target):\n",
    "    targets[i, t] = 1\n",
    "\n",
    "\n",
    "def accuracy(predictions, targets):\n",
    "    one_hot_predictions = np.zeros(predictions.shape)\n",
    "\n",
    "    for i, prediction in enumerate(predictions):\n",
    "        one_hot_predictions[i, np.argmax(prediction)] = 1\n",
    "    return accuracy_score(one_hot_predictions, targets)"
   ]
  },
  {
   "cell_type": "markdown",
   "id": "0362c4a9",
   "metadata": {},
   "source": [
    "**a)** What should the input size for the network be with this dataset? What should the output size of the last layer be?\n",
    "\n",
    "**Answer:** The input size should be 4, as the dataset contains petal and sepal length and widths in a (150x4) array. The output size should be 3 because we are trying to predict one of three irises'."
   ]
  },
  {
   "cell_type": "markdown",
   "id": "bf62607e",
   "metadata": {},
   "source": [
    "**b)** Create a network with two hidden layers, the first with sigmoid activation and the last with softmax, the first layer should have 8 \"nodes\", the second has the number of nodes you found in exercise a). Softmax returns a \"probability distribution\", in the sense that the numbers in the output are positive and add up to 1 and, their magnitude are in some sense relative to their magnitude before going through the softmax function. Remember to use the batched version of the create_layers and feed forward functions.\n"
   ]
  },
  {
   "cell_type": "code",
   "execution_count": 56,
   "id": "5366d4ae",
   "metadata": {},
   "outputs": [],
   "source": [
    "inputs = iris.data\n",
    "activation_funcs = [sigmoid, softmax]\n",
    "network_input_size = 4\n",
    "layer_output_sizes = [8, 3]\n",
    "layers = create_layers_batch(network_input_size, layer_output_sizes)"
   ]
  },
  {
   "cell_type": "markdown",
   "id": "c528846f",
   "metadata": {},
   "source": [
    "**c)** Evaluate your model on the entire iris dataset! For later purposes, we will split the data into train and test sets, and compute gradients on smaller batches of the training data. But for now, evaluate the network on the whole thing at once.\n"
   ]
  },
  {
   "cell_type": "code",
   "execution_count": 57,
   "id": "6c783105",
   "metadata": {},
   "outputs": [],
   "source": [
    "predictions = feed_forward_batch(inputs, layers, activation_funcs)"
   ]
  },
  {
   "cell_type": "markdown",
   "id": "01a3caa8",
   "metadata": {},
   "source": [
    "**d)** Compute the accuracy of your model using the accuracy function defined above. Recreate your model a couple times and see how the accuracy changes.\n"
   ]
  },
  {
   "cell_type": "code",
   "execution_count": 58,
   "id": "a2612b82",
   "metadata": {},
   "outputs": [
    {
     "name": "stdout",
     "output_type": "stream",
     "text": [
      "0.20666666666666667\n"
     ]
    }
   ],
   "source": [
    "print(accuracy(predictions, targets))"
   ]
  },
  {
   "cell_type": "markdown",
   "id": "334560b6",
   "metadata": {},
   "source": [
    "# Exercise 7 - Training on real data (Optional)\n",
    "\n",
    "To be able to actually do anything useful with your neural network, you need to train it. For this, we need a cost function and a way to take the gradient of the cost function wrt. the network parameters. The following exercises guide you through taking the gradient using autograd, and updating the network parameters using the gradient. Feel free to implement gradient methods like ADAM if you finish everything.\n"
   ]
  },
  {
   "cell_type": "markdown",
   "id": "700cabe4",
   "metadata": {},
   "source": [
    "Since we are doing a classification task with multiple output classes, we use the cross-entropy loss function, which can evaluate performance on classification tasks. It sees if your prediction is \"most certain\" on the correct target.\n"
   ]
  },
  {
   "cell_type": "code",
   "execution_count": 59,
   "id": "f30e6e2c",
   "metadata": {},
   "outputs": [],
   "source": [
    "def cross_entropy(predict, target):\n",
    "    return np.sum(-target * np.log(predict))\n",
    "\n",
    "\n",
    "def cost(input, layers, activation_funcs, target):\n",
    "    predict = feed_forward_batch(input, layers, activation_funcs)\n",
    "    return cross_entropy(predict, target)"
   ]
  },
  {
   "cell_type": "markdown",
   "id": "7ea9c1a4",
   "metadata": {},
   "source": [
    "To improve our network on whatever prediction task we have given it, we need to use a sensible cost function, take the gradient of that cost function with respect to our network parameters, the weights and biases, and then update the weights and biases using these gradients. To clarify, we need to find and use these\n",
    "\n",
    "$$\n",
    "\\frac{\\partial C}{\\partial W}, \\frac{\\partial C}{\\partial b}\n",
    "$$\n"
   ]
  },
  {
   "cell_type": "markdown",
   "id": "6c753e3b",
   "metadata": {},
   "source": [
    "Now we need to compute these gradients. This is pretty hard to do for a neural network, we will use most of next week to do this, but we can also use autograd to just do it for us, which is what we always do in practice. With the code cell below, we create a function which takes all of these gradients for us.\n"
   ]
  },
  {
   "cell_type": "code",
   "execution_count": 60,
   "id": "56bef776",
   "metadata": {},
   "outputs": [],
   "source": [
    "from autograd import grad\n",
    "\n",
    "gradient_func = grad(cost, 1)  # Taking the gradient wrt. the second input to the cost function, i.e. the layers"
   ]
  },
  {
   "cell_type": "markdown",
   "id": "7b1b74bc",
   "metadata": {},
   "source": [
    "**a)** What shape should the gradient of the cost function wrt. weights and biases be?\n",
    "\n",
    "**b)** Use the `gradient_func` function to take the gradient of the cross entropy wrt. the weights and biases of the network. Check the shapes of what's inside. What does the `grad` func from autograd actually do?\n"
   ]
  },
  {
   "cell_type": "code",
   "execution_count": 61,
   "id": "841c9e87",
   "metadata": {},
   "outputs": [],
   "source": [
    "layers_grad = gradient_func(inputs, layers, activation_funcs, targets)  # Don't change this"
   ]
  },
  {
   "cell_type": "markdown",
   "id": "adc9e9be",
   "metadata": {},
   "source": [
    "**c)** Finish the `train_network` function.\n"
   ]
  },
  {
   "cell_type": "code",
   "execution_count": 62,
   "id": "6e4d38d3",
   "metadata": {},
   "outputs": [],
   "source": [
    "def train_network(inputs, layers, activation_funcs, targets, learning_rate=0.001, epochs=100):\n",
    "    for i in range(epochs):\n",
    "        layers_grad = gradient_func(inputs, layers, activation_funcs, targets)\n",
    "        for (W, b), (W_g, b_g) in zip(layers, layers_grad):\n",
    "            W -= W_g * learning_rate\n",
    "            b -= b_g * learning_rate\n",
    "            \n",
    "    return layers"
   ]
  },
  {
   "cell_type": "markdown",
   "id": "2f65d663",
   "metadata": {},
   "source": [
    "**e)** What do we call the gradient method used above?\n",
    "\n",
    "**Answer:** Here we use the classic gradient descent method with w -= w * $\\eta$"
   ]
  },
  {
   "cell_type": "markdown",
   "id": "7059dd8c",
   "metadata": {},
   "source": [
    "**d)** Train your network and see how the accuracy changes! Make a plot if you want.\n"
   ]
  },
  {
   "cell_type": "code",
   "execution_count": 63,
   "id": "5027c7a5",
   "metadata": {},
   "outputs": [],
   "source": [
    "layers = train_network(inputs, layers, activation_funcs, targets)"
   ]
  },
  {
   "cell_type": "code",
   "execution_count": 64,
   "id": "6312caa6",
   "metadata": {},
   "outputs": [],
   "source": [
    "predictions = feed_forward_batch(inputs, layers, activation_funcs)"
   ]
  },
  {
   "cell_type": "code",
   "execution_count": 65,
   "id": "dfc1a2e5",
   "metadata": {},
   "outputs": [
    {
     "name": "stdout",
     "output_type": "stream",
     "text": [
      "0.7066666666666667\n"
     ]
    }
   ],
   "source": [
    "print(accuracy(predictions, targets))"
   ]
  },
  {
   "cell_type": "markdown",
   "id": "3bc77016",
   "metadata": {},
   "source": [
    "**e)** How high of an accuracy is it possible to acheive with a neural network on this dataset, if we use the whole thing as training data?\n",
    "\n",
    "**Answer:** By calculating the accuracy after every 50 epochs, it seems like the maximum accuracy for we can achieve for this dataset is $\\approx 97%$, even when we increase the number of epochs substantially."
   ]
  },
  {
   "cell_type": "code",
   "execution_count": 66,
   "id": "c2aee7dd",
   "metadata": {},
   "outputs": [],
   "source": [
    "iris = datasets.load_iris()\n",
    "\n",
    "\n",
    "# Since each prediction is a vector with a score for each of the three types of flowers,\n",
    "# we need to make each target a vector with a 1 for the correct flower and a 0 for the others.\n",
    "targets = np.zeros((len(iris.data), 3))\n",
    "for i, t in enumerate(iris.target):\n",
    "    targets[i, t] = 1\n",
    "\n",
    "inputs = iris.data\n",
    "activation_funcs = [sigmoid, softmax]\n",
    "\n",
    "network_input_size = 4\n",
    "layer_output_sizes = [8, 3]\n",
    "layers = create_layers_batch(network_input_size, layer_output_sizes)"
   ]
  },
  {
   "cell_type": "code",
   "execution_count": 67,
   "id": "777d7a5b",
   "metadata": {},
   "outputs": [],
   "source": [
    "def train_network(inputs, layers, activation_funcs, targets, learning_rate=0.001, epochs=100):\n",
    "    acc = []\n",
    "    for i in range(epochs):\n",
    "        layers_grad = gradient_func(inputs, layers, activation_funcs, targets)\n",
    "        for (W, b), (W_g, b_g) in zip(layers, layers_grad):\n",
    "            W -= W_g * learning_rate\n",
    "            b -= b_g * learning_rate\n",
    "\n",
    "\n",
    "        if i % 50 == 0:\n",
    "            predictions = feed_forward_batch(inputs, layers, activation_funcs)\n",
    "            current_acc = accuracy(predictions, targets)\n",
    "\n",
    "            print(f\"Accuracy after epoch {i} is {current_acc}\")\n",
    "\n",
    "            acc.append(current_acc)\n",
    "            \n",
    "    return layers, acc"
   ]
  },
  {
   "cell_type": "code",
   "execution_count": 68,
   "id": "d7070062",
   "metadata": {},
   "outputs": [
    {
     "name": "stdout",
     "output_type": "stream",
     "text": [
      "Accuracy after epoch 0 is 0.21333333333333335\n",
      "Accuracy after epoch 50 is 0.6933333333333334\n",
      "Accuracy after epoch 100 is 0.9133333333333333\n",
      "Accuracy after epoch 150 is 0.96\n",
      "Accuracy after epoch 200 is 0.96\n",
      "Accuracy after epoch 250 is 0.9666666666666667\n",
      "Accuracy after epoch 300 is 0.9666666666666667\n",
      "Accuracy after epoch 350 is 0.9666666666666667\n",
      "Accuracy after epoch 400 is 0.9666666666666667\n",
      "Accuracy after epoch 450 is 0.9666666666666667\n",
      "Accuracy after epoch 500 is 0.9666666666666667\n",
      "Accuracy after epoch 550 is 0.9666666666666667\n",
      "Accuracy after epoch 600 is 0.9666666666666667\n",
      "Accuracy after epoch 650 is 0.9666666666666667\n",
      "Accuracy after epoch 700 is 0.9666666666666667\n",
      "Accuracy after epoch 750 is 0.9666666666666667\n",
      "Accuracy after epoch 800 is 0.9733333333333334\n",
      "Accuracy after epoch 850 is 0.9733333333333334\n",
      "Accuracy after epoch 900 is 0.9733333333333334\n",
      "Accuracy after epoch 950 is 0.9733333333333334\n",
      "Accuracy after epoch 1000 is 0.9733333333333334\n",
      "Accuracy after epoch 1050 is 0.9733333333333334\n",
      "Accuracy after epoch 1100 is 0.9733333333333334\n",
      "Accuracy after epoch 1150 is 0.9733333333333334\n",
      "Accuracy after epoch 1200 is 0.9733333333333334\n",
      "Accuracy after epoch 1250 is 0.9733333333333334\n",
      "Accuracy after epoch 1300 is 0.9733333333333334\n",
      "Accuracy after epoch 1350 is 0.9733333333333334\n",
      "Accuracy after epoch 1400 is 0.9733333333333334\n",
      "Accuracy after epoch 1450 is 0.9733333333333334\n"
     ]
    }
   ],
   "source": [
    "layers, acc = train_network(inputs, layers, activation_funcs, targets, epochs=1500)"
   ]
  },
  {
   "cell_type": "code",
   "execution_count": null,
   "id": "325ef67d",
   "metadata": {},
   "outputs": [],
   "source": []
  }
 ],
 "metadata": {
  "kernelspec": {
   "display_name": ".venv",
   "language": "python",
   "name": "python3"
  },
  "language_info": {
   "codemirror_mode": {
    "name": "ipython",
    "version": 3
   },
   "file_extension": ".py",
   "mimetype": "text/x-python",
   "name": "python",
   "nbconvert_exporter": "python",
   "pygments_lexer": "ipython3",
   "version": "3.12.3"
  }
 },
 "nbformat": 4,
 "nbformat_minor": 5
}

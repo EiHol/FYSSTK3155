{
 "cells": [
  {
   "cell_type": "markdown",
   "id": "8e6632a0",
   "metadata": {
    "editable": true
   },
   "source": [
    "<!-- HTML file automatically generated from DocOnce source (https://github.com/doconce/doconce/)\n",
    "doconce format html exercisesweek37.do.txt  -->\n",
    "<!-- dom:TITLE: Exercises week 37 -->"
   ]
  },
  {
   "cell_type": "markdown",
   "id": "82705c4f",
   "metadata": {
    "editable": true
   },
   "source": [
    "# Exercises week 37\n",
    "**Implementing gradient descent for Ridge and ordinary Least Squares Regression**\n",
    "\n",
    "Date: **September 8-12, 2025**"
   ]
  },
  {
   "cell_type": "markdown",
   "id": "921bf331",
   "metadata": {
    "editable": true
   },
   "source": [
    "## Learning goals\n",
    "\n",
    "After having completed these exercises you will have:\n",
    "1. Your own code for the implementation of the simplest gradient descent approach applied to ordinary least squares (OLS) and Ridge regression\n",
    "\n",
    "2. Be able to compare the analytical expressions for OLS and Ridge regression with the gradient descent approach\n",
    "\n",
    "3. Explore the role of the learning rate in the gradient descent approach and the hyperparameter $\\lambda$ in Ridge regression\n",
    "\n",
    "4. Scale the data properly"
   ]
  },
  {
   "cell_type": "markdown",
   "id": "adff65d5",
   "metadata": {
    "editable": true
   },
   "source": [
    "## Simple one-dimensional second-order polynomial\n",
    "\n",
    "We start with a very simple function"
   ]
  },
  {
   "cell_type": "markdown",
   "id": "70418b3d",
   "metadata": {
    "editable": true
   },
   "source": [
    "$$\n",
    "f(x)= 2-x+5x^2,\n",
    "$$"
   ]
  },
  {
   "cell_type": "markdown",
   "id": "11a3cf73",
   "metadata": {
    "editable": true
   },
   "source": [
    "defined for $x\\in [-2,2]$. You can add noise if you wish. \n",
    "\n",
    "We are going to fit this function with a polynomial ansatz. The easiest thing is to set up a second-order polynomial and see if you can fit the above function.\n",
    "Feel free to play around with higher-order polynomials."
   ]
  },
  {
   "cell_type": "markdown",
   "id": "04a06b51",
   "metadata": {
    "editable": true
   },
   "source": [
    "## Exercise 1, scale your data\n",
    "\n",
    "Before fitting a regression model, it is good practice to normalize or\n",
    "standardize the features. This ensures all features are on a\n",
    "comparable scale, which is especially important when using\n",
    "regularization. Here we will perform standardization, scaling each\n",
    "feature to have mean 0 and standard deviation 1."
   ]
  },
  {
   "cell_type": "markdown",
   "id": "408db3d9",
   "metadata": {
    "editable": true
   },
   "source": [
    "### 1a)\n",
    "\n",
    "Compute the mean and standard deviation of each column (feature) in your design/feature matrix $\\boldsymbol{X}$.\n",
    "Subtract the mean and divide by the standard deviation for each feature.\n",
    "\n",
    "We will also center the target $\\boldsymbol{y}$ to mean $0$. Centering $\\boldsymbol{y}$\n",
    "(and each feature) means the model does not require a separate intercept\n",
    "term, the data is shifted such that the intercept is effectively 0\n",
    ". (In practice, one could include an intercept in the model and not\n",
    "penalize it, but here we simplify by centering.)\n",
    "Choose $n=100$ data points and set up $\\boldsymbol{x}$, $\\boldsymbol{y}$ and the design matrix $\\boldsymbol{X}$."
   ]
  },
  {
   "cell_type": "code",
   "execution_count": 2,
   "id": "52d4ffdc",
   "metadata": {},
   "outputs": [],
   "source": [
    "import numpy as np\n",
    "import matplotlib.pyplot as plt\n",
    "from sklearn.model_selection import train_test_split\n",
    "from sklearn.preprocessing import StandardScaler, PolynomialFeatures\n",
    "from sklearn.metrics import mean_squared_error"
   ]
  },
  {
   "cell_type": "code",
   "execution_count": 3,
   "id": "e451c740",
   "metadata": {},
   "outputs": [],
   "source": [
    "def polynomial_features(x, p, intercept=False):\n",
    "    n = len(x)\n",
    "\n",
    "    # Only include the intercept column if the itnercept argumenSt is True\n",
    "    if intercept:\n",
    "        X = np.zeros((n, p + 1))\n",
    "\n",
    "        for i in range(p + 1):\n",
    "            X[:, i] = x**i\n",
    "\n",
    "    else:\n",
    "        X = np.zeros((n, p))\n",
    "\n",
    "        for i in range(1, p + 1):\n",
    "            X[:, i - 1] = x**i\n",
    "    \n",
    "    return X"
   ]
  },
  {
   "cell_type": "code",
   "execution_count": 4,
   "id": "06d80a98",
   "metadata": {},
   "outputs": [],
   "source": [
    "# Setting seed to get the same data every time\n",
    "np.random.seed(4155)\n",
    "\n",
    "# Generate the data\n",
    "n = 100\n",
    "x = np.linspace(-2, 2, n)\n",
    "y = 2 - x + 5*x**2 + np.random.randn(n)\n",
    "\n"
   ]
  },
  {
   "cell_type": "code",
   "execution_count": 5,
   "id": "43865c9b",
   "metadata": {},
   "outputs": [],
   "source": [
    "X = polynomial_features(x, 2)"
   ]
  },
  {
   "cell_type": "code",
   "execution_count": 6,
   "id": "37fb732c",
   "metadata": {
    "collapsed": false,
    "editable": true
   },
   "outputs": [
    {
     "name": "stdout",
     "output_type": "stream",
     "text": [
      "(100, 1)\n"
     ]
    }
   ],
   "source": [
    "# Standardize features (zero mean, unit variance for each feature)\n",
    "X_mean = X.mean(axis=0)\n",
    "X_std = X.std(axis=0)\n",
    "X_std[X_std == 0] = 1  # safeguard to avoid division by zero for constant features\n",
    "X_norm = (X - X_mean) / X_std\n",
    "\n",
    "# Center the target to zero mean (optional, to simplify intercept handling)\n",
    "y_mean = y.mean(axis=0)\n",
    "y_centered = (y - y_mean).reshape(-1, 1)\n",
    "\n",
    "print(y_centered.shape)\n"
   ]
  },
  {
   "cell_type": "markdown",
   "id": "d861e1e3",
   "metadata": {
    "editable": true
   },
   "source": [
    "Fill in the necessary details. Do we need to center the $y$-values? \n",
    "\n",
    "After this preprocessing, each column of $\\boldsymbol{X}_{\\mathrm{norm}}$ has mean zero and standard deviation $1$\n",
    "and $\\boldsymbol{y}_{\\mathrm{centered}}$ has mean 0. This makes the optimization landscape\n",
    "nicer and ensures the regularization penalty $\\lambda \\sum_j\n",
    "\\theta_j^2$ in Ridge regression treats each coefficient fairly (since features are on the\n",
    "same scale)."
   ]
  },
  {
   "cell_type": "markdown",
   "id": "b3e774d0",
   "metadata": {
    "editable": true
   },
   "source": [
    "## Exercise 2, calculate the gradients\n",
    "\n",
    "Find the gradients for OLS and Ridge regression using the mean-squared error as cost/loss function."
   ]
  },
  {
   "cell_type": "code",
   "execution_count": 7,
   "id": "a2b25698",
   "metadata": {},
   "outputs": [
    {
     "name": "stdout",
     "output_type": "stream",
     "text": [
      "inf\n",
      "0.03329407729891187\n",
      "0.011649843172744312\n",
      "0.004076366037441659\n",
      "0.0014263505375105012\n",
      "0.0004990905716368843\n",
      "Cost reduced below 0.001 in 5 iterations\n"
     ]
    },
    {
     "data": {
      "text/plain": [
       "array([[ 6.46315419e-02],\n",
       "       [-2.22044605e-16]])"
      ]
     },
     "execution_count": 7,
     "metadata": {},
     "output_type": "execute_result"
    }
   ],
   "source": [
    "def gradient_decent_OLS(X, y):\n",
    "\n",
    "    # Extract number of datapoints and number of parameters from the design matrix\n",
    "    n, p = X.shape\n",
    "\n",
    "    # Hessian matrix\n",
    "    H = (2.0/n)* X.T @ X\n",
    "\n",
    "    # Find Eigenvalues and vectors\n",
    "    EigVal, EigVec = np.linalg.eig(H)\n",
    "\n",
    "    # Finding learningrate based on eigenvalues\n",
    "    learning_rate = 1 / max(EigVal)\n",
    "\n",
    "    # Selecting a random theta to begin the gradient decent\n",
    "    theta = np.random.randn(p,1)\n",
    "\n",
    "    # initializing a \"previous cost\" variable to infinity\n",
    "    prev_cost = float(\"inf\")\n",
    "\n",
    "    for i in range(100):\n",
    "\n",
    "        # Gradient\n",
    "        gradient = ((2/n) * X.T) @ (X @ theta - y)\n",
    "\n",
    "        # Updating theta\n",
    "        theta -= learning_rate * gradient\n",
    "\n",
    "        # Predicting y\n",
    "        y_pred = X @ theta\n",
    "\n",
    "        # Calculating cost\n",
    "        cost = mean_squared_error(y, y_pred)\n",
    "\n",
    "        print(prev_cost - cost)\n",
    "\n",
    "        if (prev_cost - cost) < 0.001:\n",
    "            print(f\"Cost reduced below 0.001 in {i} iterations\")\n",
    "            break\n",
    "\n",
    "        # Update previous cost\n",
    "        prev_cost = cost\n",
    "\n",
    "    return gradient\n",
    "\n",
    "\n",
    "gradient_decent_OLS(X, y_centered)"
   ]
  },
  {
   "cell_type": "code",
   "execution_count": 8,
   "id": "17746c92",
   "metadata": {},
   "outputs": [
    {
     "name": "stdout",
     "output_type": "stream",
     "text": [
      "inf\n",
      "0.016015642701432853\n",
      "0.005270283369345208\n",
      "0.0016560380974119937\n",
      "0.0004715802407062597\n",
      "Cost reduced below 0.001 in 4 iterations\n"
     ]
    },
    {
     "data": {
      "text/plain": [
       "array([[-7.84037702e-02],\n",
       "       [ 5.62050406e-16]])"
      ]
     },
     "execution_count": 8,
     "metadata": {},
     "output_type": "execute_result"
    }
   ],
   "source": [
    "def gradient_decent_ridge(X, y, Lambda):\n",
    "\n",
    "    # Extract number of datapoints and number of parameters from the design matrix\n",
    "    n, p = X.shape\n",
    "\n",
    "    # Hessian matrix\n",
    "    H = (2.0/n)* X.T @ X + 2*Lambda * np.eye(p)\n",
    "\n",
    "    # Find Eigenvalues and vectors\n",
    "    EigVal, EigVec = np.linalg.eig(H)\n",
    "\n",
    "    # Finding learningrate based on eigenvalues\n",
    "    learning_rate = 1 / max(EigVal)\n",
    "\n",
    "    # Selecting a random theta to begin the gradient decent\n",
    "    theta = np.random.randn(p,1)\n",
    "\n",
    "    # initializing a \"previous cost\" variable to infinity\n",
    "    prev_cost = float(\"inf\")\n",
    "\n",
    "    for i in range(100):\n",
    "\n",
    "        # Gradient\n",
    "        gradient = 2 * ((1/n) * X.T @ (X @ theta - y) + Lambda * theta)\n",
    "\n",
    "        # Updating theta\n",
    "        theta -= learning_rate * gradient\n",
    "\n",
    "        # Predicting y\n",
    "        y_pred = X @ theta\n",
    "\n",
    "        # Calculating cost\n",
    "        cost = mean_squared_error(y, y_pred)\n",
    "\n",
    "        print(prev_cost - cost)\n",
    "\n",
    "        if (prev_cost - cost) < 0.001:\n",
    "            print(f\"Cost reduced below 0.001 in {i} iterations\")\n",
    "            break\n",
    "\n",
    "        # Update previous cost\n",
    "        prev_cost = cost\n",
    "\n",
    "\n",
    "    return gradient\n",
    "\n",
    "\n",
    "gradient_decent_ridge(X, y_centered, 0.01)"
   ]
  },
  {
   "cell_type": "markdown",
   "id": "d5dc7708",
   "metadata": {
    "editable": true
   },
   "source": [
    "## Exercise 3, using the analytical formulae for OLS and Ridge regression to find the optimal paramters $\\boldsymbol{\\theta}$"
   ]
  },
  {
   "cell_type": "code",
   "execution_count": 9,
   "id": "4c9c86ac",
   "metadata": {
    "collapsed": false,
    "editable": true
   },
   "outputs": [
    {
     "name": "stdout",
     "output_type": "stream",
     "text": [
      "Closed-form Ridge coefficients: [-1.09228307  5.80432686]\n",
      "Closed-form OLS coefficients: [-1.08431177  5.78694944]\n"
     ]
    }
   ],
   "source": [
    "# Set regularization parameter, either a single value or a vector of values\n",
    "# Note that lambda is a python keyword. The lambda keyword is used to create small, single-expression functions without a formal name. These are often called \"anonymous functions\" or \"lambda functions.\"\n",
    "lam = 0.01\n",
    "\n",
    "n_features = 2\n",
    "\n",
    "\n",
    "# Analytical form for OLS and Ridge solution: theta_Ridge = (X^T X + lambda * I)^{-1} X^T y and theta_OLS = (X^T X)^{-1} X^T y\n",
    "I = np.eye(n_features)\n",
    "theta_closed_formRidge = np.linalg.inv(X.T @ X) @ X.T @ y\n",
    "theta_closed_formOLS = np.linalg.inv(X.T @ X + n * lam * I) @ X.T @ y\n",
    "\n",
    "print(\"Closed-form Ridge coefficients:\", theta_closed_formRidge)\n",
    "print(\"Closed-form OLS coefficients:\", theta_closed_formOLS)"
   ]
  },
  {
   "cell_type": "code",
   "execution_count": 10,
   "id": "8b1a3772",
   "metadata": {},
   "outputs": [
    {
     "name": "stdout",
     "output_type": "stream",
     "text": [
      "[-1.09220278  5.80415257]\n",
      "[-1.09148067  5.80258442]\n",
      "[-1.08431177  5.78694944]\n",
      "[-1.01748296  5.63511214]\n",
      "[-0.62950408  4.46388359]\n",
      "[-0.13078908  1.4500437 ]\n"
     ]
    }
   ],
   "source": [
    "for lam in [0.0001, 0.001, 0.01, 0.1, 1, 10]:\n",
    "    print(np.linalg.inv(X.T @ X + n * lam * I) @ X.T @ y)"
   ]
  },
  {
   "cell_type": "markdown",
   "id": "eeae00fd",
   "metadata": {
    "editable": true
   },
   "source": [
    "This computes the Ridge and OLS regression coefficients directly. The identity\n",
    "matrix $I$ has the same size as $X^T X$. It adds $\\lambda$ to the diagonal of $X^T X$ for Ridge regression. We\n",
    "then invert this matrix and multiply by $X^T y$. The result\n",
    "for $\\boldsymbol{\\theta}$  is a NumPy array of shape (n_features,) containing the\n",
    "fitted parameters $\\boldsymbol{\\theta}$."
   ]
  },
  {
   "cell_type": "markdown",
   "id": "e1c215d5",
   "metadata": {
    "editable": true
   },
   "source": [
    "### 3a)\n",
    "\n",
    "Finalize, in the above code, the OLS and Ridge regression determination of the optimal parameters $\\boldsymbol{\\theta}$."
   ]
  },
  {
   "cell_type": "markdown",
   "id": "587dd3dc",
   "metadata": {
    "editable": true
   },
   "source": [
    "### 3b)\n",
    "\n",
    "Explore the results as function of different values of the hyperparameter $\\lambda$. See for example exercise 4 from week 36."
   ]
  },
  {
   "cell_type": "markdown",
   "id": "bfa34697",
   "metadata": {
    "editable": true
   },
   "source": [
    "## Exercise 4, Implementing the simplest form for gradient descent\n",
    "\n",
    "Alternatively, we can fit the ridge regression model using gradient\n",
    "descent. This is useful to visualize the iterative convergence and is\n",
    "necessary if $n$ and $p$ are so large that the closed-form might be\n",
    "too slow or memory-intensive. We derive the gradients from the cost\n",
    "functions defined above. Use the gradients of the Ridge and OLS cost functions with respect to\n",
    "the parameters  $\\boldsymbol{\\theta}$ and set up (using the template below) your own gradient descent code for OLS and Ridge regression.\n",
    "\n",
    "Below is a template code for gradient descent implementation of ridge:"
   ]
  },
  {
   "cell_type": "code",
   "execution_count": 16,
   "id": "22cd51d1",
   "metadata": {},
   "outputs": [
    {
     "data": {
      "text/plain": [
       "[<matplotlib.lines.Line2D at 0x26968942750>]"
      ]
     },
     "execution_count": 16,
     "metadata": {},
     "output_type": "execute_result"
    },
    {
     "data": {
      "image/png": "[encoded data removed]",
      "text/plain": [
       "<Figure size 640x480 with 1 Axes>"
      ]
     },
     "metadata": {},
     "output_type": "display_data"
    }
   ],
   "source": [
    "# Setting seed to get the same data every time\n",
    "np.random.seed(4155)\n",
    "\n",
    "# Generate the data\n",
    "n = 100\n",
    "x = np.linspace(-2, 2, n)\n",
    "y = 2 - x + 5*x**2 + x**3 #+ np.random.randn(n)\n",
    "\n",
    "# Standardize features (zero mean, unit variance for each feature)\n",
    "X_mean = X.mean(axis=0)\n",
    "X_std = X.std(axis=0)\n",
    "X_std[X_std == 0] = 1  # safeguard to avoid division by zero for constant features\n",
    "X_norm = (X - X_mean) / X_std\n",
    "\n",
    "# Center the target to zero mean (optional, to simplify intercept handling)\n",
    "y_mean = y.mean(axis=0)\n",
    "y_centered = (y - y_mean).reshape(-1, 1)\n",
    "\n",
    "plt.plot(x, y)"
   ]
  },
  {
   "cell_type": "code",
   "execution_count": 12,
   "id": "34032f28",
   "metadata": {},
   "outputs": [
    {
     "name": "stdout",
     "output_type": "stream",
     "text": [
      "Theta reduced below 1e-6 in 27 iterations\n"
     ]
    },
    {
     "data": {
      "text/plain": [
       "array([[1.35587441],\n",
       "       [2.24340581]])"
      ]
     },
     "execution_count": 12,
     "metadata": {},
     "output_type": "execute_result"
    }
   ],
   "source": [
    "def gradient_decent_OLS(X, y):\n",
    "\n",
    "    y = y.reshape(-1, 1)\n",
    "\n",
    "    # Extract number of datapoints and number of parameters from the design matrix\n",
    "    n, p = X.shape\n",
    "\n",
    "    # Hessian matrix\n",
    "    H = (2.0/n)* X.T @ X\n",
    "\n",
    "    # Find Eigenvalues and vectors\n",
    "    EigVal, EigVec = np.linalg.eig(H)\n",
    "\n",
    "    # Finding learningrate based on eigenvalues\n",
    "    learning_rate = 1 / max(EigVal)\n",
    "\n",
    "    # Selecting a random theta to begin the gradient decent\n",
    "    theta = np.random.randn(p,1)\n",
    "\n",
    "    # Copy theta\n",
    "    prev_theta = theta.copy()\n",
    "\n",
    "    for i in range(100):\n",
    "\n",
    "        # Gradient\n",
    "        gradient = ((2/n) * X.T) @ (X @ theta - y)\n",
    "\n",
    "        # Updating theta\n",
    "        theta -= learning_rate * gradient\n",
    "\n",
    "        # Predicting y\n",
    "        y_pred = X @ theta\n",
    "\n",
    "        # Calculating cost\n",
    "        cost = mean_squared_error(y, y_pred)\n",
    "\n",
    "        #print(prev_theta - theta)\n",
    "\n",
    "        if (np.linalg.norm(prev_theta - theta)) < 1e-6:\n",
    "            print(f\"Theta reduced below 1e-6 in {i} iterations\")\n",
    "            break\n",
    "\n",
    "        # Update previous cost\n",
    "        prev_theta = theta.copy()\n",
    "\n",
    "    return theta\n",
    "\n",
    "\n",
    "gradient_decent_OLS(X, y_centered)"
   ]
  },
  {
   "cell_type": "code",
   "execution_count": 13,
   "id": "49245f55",
   "metadata": {
    "collapsed": false,
    "editable": true
   },
   "outputs": [
    {
     "name": "stdout",
     "output_type": "stream",
     "text": [
      "Theta reduced below 1e-6 in 27 iterations\n"
     ]
    },
    {
     "data": {
      "text/plain": [
       "array([[1.34597932],\n",
       "       [2.23668934]])"
      ]
     },
     "execution_count": 13,
     "metadata": {},
     "output_type": "execute_result"
    }
   ],
   "source": [
    "def gradient_decent_ridge(X, y, Lambda=0.01):\n",
    "\n",
    "    y = y.reshape(-1, 1)\n",
    "\n",
    "    # Extract number of datapoints and number of parameters from the design matrix\n",
    "    n, p = X.shape\n",
    "\n",
    "    # Hessian matrix\n",
    "    H = (2.0/n)* X.T @ X + 2*Lambda * np.eye(p)\n",
    "\n",
    "    # Find Eigenvalues and vectors\n",
    "    EigVal, EigVec = np.linalg.eig(H)\n",
    "\n",
    "    # Finding learningrate based on eigenvalues\n",
    "    learning_rate = 1 / max(EigVal)\n",
    "\n",
    "    # Selecting a random theta to begin the gradient decent\n",
    "    theta = np.random.randn(p,1)\n",
    "\n",
    "    # Copy theta\n",
    "    prev_theta = theta.copy()\n",
    "\n",
    "    for i in range(100):\n",
    "\n",
    "        # Gradient\n",
    "        # Gradient\n",
    "        gradient = 2 * ((1/n) * X.T @ (X @ theta - y) + Lambda * theta)\n",
    "\n",
    "        # Updating theta\n",
    "        theta -= learning_rate * gradient\n",
    "\n",
    "        # Predicting y\n",
    "        y_pred = X @ theta\n",
    "\n",
    "        # Calculating cost\n",
    "        cost = mean_squared_error(y, y_pred)\n",
    "\n",
    "        if (np.linalg.norm(prev_theta - theta)) < 1e-6:\n",
    "            print(f\"Theta reduced below 1e-6 in {i} iterations\")\n",
    "            break\n",
    "\n",
    "        # Update previous cost\n",
    "        prev_theta = theta.copy()\n",
    "\n",
    "    return theta\n",
    "\n",
    "\n",
    "gradient_decent_ridge(X, y_centered)"
   ]
  },
  {
   "cell_type": "markdown",
   "id": "f3f43f2c",
   "metadata": {
    "editable": true
   },
   "source": [
    "### 4a)\n",
    "\n",
    "Write first a gradient descent code for OLS only using the above template.\n",
    "Discuss the results as function of the learning rate parameters and the number of iterations"
   ]
  },
  {
   "cell_type": "markdown",
   "id": "9ba303be",
   "metadata": {
    "editable": true
   },
   "source": [
    "### 4b)\n",
    "\n",
    "Write then a similar code for Ridge regression using the above template.\n",
    "Try to add a stopping parameter as function of the number iterations and the difference between the new and old $\\theta$ values. How would you define a stopping criterion?"
   ]
  },
  {
   "cell_type": "markdown",
   "id": "78362c6c",
   "metadata": {
    "editable": true
   },
   "source": [
    "## Exercise 5, Ridge regression and a new Synthetic Dataset\n",
    "\n",
    "We create a synthetic linear regression dataset with a sparse\n",
    "underlying relationship. This means we have many features but only a\n",
    "few of them actually contribute to the target. In our example, we’ll\n",
    "use 10 features with only 3 non-zero weights in the true model. This\n",
    "way, the target is generated as a linear combination of a few features\n",
    "(with known coefficients) plus some random noise. The steps we include are:\n",
    "\n",
    "Decide on the number of samples and features (e.g. 100 samples, 10 features).\n",
    "Define the **true** coefficient vector with mostly zeros (for sparsity). For example, we set $\\hat{\\boldsymbol{\\theta}} = [5.0, -3.0, 0.0, 0.0, 0.0, 0.0, 2.0, 0.0, 0.0, 0.0]$, meaning only features 0, 1, and 6 have a real effect on y.\n",
    "\n",
    "Then we sample feature values for $\\boldsymbol{X}$ randomly (e.g. from a normal distribution). We use a normal distribution so features are roughly centered around 0.\n",
    "Then we compute the target values $y$ using the linear combination $\\boldsymbol{X}\\hat{\\boldsymbol{\\theta}}$ and add some noise (to simulate measurement error or unexplained variance).\n",
    "\n",
    "Below is the code to generate the dataset:"
   ]
  },
  {
   "cell_type": "code",
   "execution_count": 14,
   "id": "8be1cebe",
   "metadata": {
    "collapsed": false,
    "editable": true
   },
   "outputs": [],
   "source": [
    "import numpy as np\n",
    "\n",
    "# Set random seed for reproducibility\n",
    "np.random.seed(0)\n",
    "\n",
    "# Define dataset size\n",
    "n_samples = 100\n",
    "n_features = 10\n",
    "\n",
    "# Define true coefficients (sparse linear relationship)\n",
    "theta_true = np.array([5.0, -3.0, 0.0, 0.0, 0.0, 0.0, 2.0, 0.0, 0.0, 0.0])\n",
    "\n",
    "# Generate feature matrix X (n_samples x n_features) with random values\n",
    "X = np.random.randn(n_samples, n_features)  # standard normal distribution\n",
    "\n",
    "# Generate target values y with a linear combination of X and theta_true, plus noise\n",
    "noise = 0.5 * np.random.randn(n_samples)    # Gaussian noise\n",
    "y = X @ theta_true + noise"
   ]
  },
  {
   "cell_type": "markdown",
   "id": "e2693666",
   "metadata": {
    "editable": true
   },
   "source": [
    "This code produces a dataset where only features 0, 1, and 6\n",
    "significantly influence $\\boldsymbol{y}$. The rest of the features have zero true\n",
    "coefficient. For example, feature 0 has\n",
    "a true weight of 5.0, feature 1 has -3.0, and feature 6 has 2.0, so\n",
    "the expected relationship is:"
   ]
  },
  {
   "cell_type": "markdown",
   "id": "bc954d12",
   "metadata": {
    "editable": true
   },
   "source": [
    "$$\n",
    "y \\approx 5 \\times x_0 \\;-\\; 3 \\times x_1 \\;+\\; 2 \\times x_6 \\;+\\; \\text{noise}.\n",
    "$$"
   ]
  },
  {
   "cell_type": "markdown",
   "id": "6534b610",
   "metadata": {
    "editable": true
   },
   "source": [
    "You can remove the noise if you wish to. \n",
    "\n",
    "Try to fit the above data set using OLS and Ridge regression with the analytical expressions and your own gradient descent codes.\n",
    "\n",
    "If everything worked correctly, the learned coefficients should be\n",
    "close to the true values [5.0, -3.0, 0.0, …, 2.0, …] that we used to\n",
    "generate the data. Keep in mind that due to regularization and noise,\n",
    "the learned values will not exactly equal the true ones, but they\n",
    "should be in the same ballpark.  Which method (OLS or Ridge) gives the best results?"
   ]
  },
  {
   "cell_type": "code",
   "execution_count": 15,
   "id": "a1b2dee6",
   "metadata": {},
   "outputs": [
    {
     "name": "stdout",
     "output_type": "stream",
     "text": [
      "Theta reduced below 1e-6 in 27 iterations\n",
      "[[ 5.00905312e+00]\n",
      " [-3.00383291e+00]\n",
      " [-1.62717147e-02]\n",
      " [ 1.44820054e-01]\n",
      " [-7.16009828e-02]\n",
      " [-4.29659936e-02]\n",
      " [ 2.05558065e+00]\n",
      " [ 1.97577329e-03]\n",
      " [ 4.11921650e-02]\n",
      " [-5.10225476e-02]]\n",
      "Theta reduced below 1e-6 in 25 iterations\n",
      "[[ 4.96007550e+00]\n",
      " [-2.96287954e+00]\n",
      " [-1.66160582e-02]\n",
      " [ 1.51234729e-01]\n",
      " [-8.08032029e-02]\n",
      " [-5.09072683e-02]\n",
      " [ 2.02863280e+00]\n",
      " [ 4.83606626e-03]\n",
      " [ 3.16609656e-02]\n",
      " [-5.16769074e-02]]\n"
     ]
    }
   ],
   "source": [
    "theta_OLS = gradient_decent_OLS(X, y)\n",
    "\n",
    "print(theta_OLS)\n",
    "\n",
    "theta_ridge = gradient_decent_ridge(X, y)\n",
    "\n",
    "print(theta_ridge)"
   ]
  },
  {
   "cell_type": "markdown",
   "id": "d44cc606",
   "metadata": {},
   "source": [
    "Theta from OLS is slightly closer to the true coefficients than ridge, however, both are very close"
   ]
  }
 ],
 "metadata": {
  "kernelspec": {
   "display_name": ".venv",
   "language": "python",
   "name": "python3"
  },
  "language_info": {
   "codemirror_mode": {
    "name": "ipython",
    "version": 3
   },
   "file_extension": ".py",
   "mimetype": "text/x-python",
   "name": "python",
   "nbconvert_exporter": "python",
   "pygments_lexer": "ipython3",
   "version": "3.12.1"
  }
 },
 "nbformat": 4,
 "nbformat_minor": 5
}
